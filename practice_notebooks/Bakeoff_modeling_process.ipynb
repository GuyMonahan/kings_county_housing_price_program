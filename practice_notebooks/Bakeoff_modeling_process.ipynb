{
 "cells": [
  {
   "cell_type": "markdown",
   "metadata": {},
   "source": [
    "# Kings County Housing Prices Bakeoff\n",
    "\n",
    "Below are a list of steps that you should take while trying to complete your bake-off entry."
   ]
  },
  {
   "cell_type": "markdown",
   "metadata": {},
   "source": [
    "## Step 1: Read in Data"
   ]
  },
  {
   "cell_type": "code",
   "execution_count": 30,
   "metadata": {},
   "outputs": [],
   "source": [
    "import seaborn as sns\n",
    "import scipy.stats as stats\n",
    "from scipy import stats\n",
    "from math import sqrt\n",
    "import scipy\n",
    "import numpy as np \n",
    "import datetime\n",
    "import geopy.distance\n",
    "import pandas as pd \n",
    "import sklearn\n",
    "from sklearn.preprocessing import StandardScaler\n",
    "from statsmodels.formula.api import ols\n",
    "import matplotlib.pyplot as plt \n",
    "from sklearn.model_selection import train_test_split\n",
    "from sklearn import linear_model\n",
    "from sklearn import metrics\n",
    "import uszipcode\n",
    "import pickle\n",
    "from sklearn.preprocessing import PolynomialFeatures\n",
    "from sklearn.linear_model import LinearRegression\n",
    "from sklearn.feature_selection import SelectKBest, f_regression,mutual_info_regression"
   ]
  },
  {
   "cell_type": "code",
   "execution_count": null,
   "metadata": {},
   "outputs": [],
   "source": [
    "from uszipcode import SearchEngine\n",
    "search = SearchEngine(simple_zipcode=True) # set simple_zipcode=False to use rich info database\n",
    "zipcode = search.by_zipcode(\"10803\")\n",
    "#zipcode.to_dict()['median_household_income']\n",
    "zipcode = zipcode.to_dict()\n",
    "zipcode"
   ]
  },
  {
   "source": [
    "def zip_code_edu(df):\n",
    "    education = []\n",
    "    for zip in df['zipcode']:\n",
    "        search = SearchEngine(simple_zipcode=True)\n",
    "        zipcode = search.by_zipcode(zip)\n",
    "        zipcode = zipcode.to_dict()\n",
    "        income = zipcode['families_vs_singles']\n",
    "        education.append(income)\n",
    "    return education\n",
    "zip_edu_attain = zip_code_edu(kc_df)"
   ],
   "cell_type": "code",
   "metadata": {},
   "execution_count": null,
   "outputs": []
  },
  {
   "cell_type": "code",
   "execution_count": null,
   "metadata": {},
   "outputs": [],
   "source": [
    "def zip_code_mhi(df):\n",
    "    median_income = []\n",
    "    for zip in df['zipcode']:\n",
    "        search = SearchEngine(simple_zipcode=True)\n",
    "        zipcode = search.by_zipcode(zip)\n",
    "        zipcode = zipcode.to_dict()\n",
    "        income = zipcode['median_household_income']\n",
    "        median_income.append(income)\n",
    "    return median_income\n",
    "m_house_income = zip_code_mhi(kc_df)"
   ]
  },
  {
   "cell_type": "code",
   "execution_count": null,
   "metadata": {},
   "outputs": [],
   "source": [
    "def zip_code_pd(df):\n",
    "    pop_density = []\n",
    "    for zip in df['zipcode']:\n",
    "        search = SearchEngine(simple_zipcode=True)\n",
    "        zipcode = search.by_zipcode(zip)\n",
    "        zipcode = zipcode.to_dict()\n",
    "        income = zipcode['population_density']\n",
    "        pop_density.append(income)\n",
    "    return pop_density\n",
    "p_density = zip_code_pd(kc_df)"
   ]
  },
  {
   "cell_type": "code",
   "execution_count": null,
   "metadata": {},
   "outputs": [],
   "source": []
  },
  {
   "cell_type": "code",
   "execution_count": null,
   "metadata": {},
   "outputs": [],
   "source": [
    "def zip_code(df):\n",
    "    zip_code_zc = []\n",
    "    for zip in df['zipcode']:\n",
    "        search = SearchEngine(simple_zipcode=True)\n",
    "        zipcode = search.by_zipcode(zip)\n",
    "        zipcode = zipcode.to_dict()\n",
    "        income = zipcode['zipcode']\n",
    "        zip_code_zc.append(income)\n",
    "    return zip_code_zc\n",
    "l_zipcode = zip_code(kc_df)"
   ]
  },
  {
   "source": [
    "zip_pd = dict(zip(l_zipcode, p_density))\n",
    "zip_pd"
   ],
   "cell_type": "code",
   "metadata": {},
   "execution_count": null,
   "outputs": []
  },
  {
   "source": [
    "zip_mhi = dict(zip(l_zipcode, m_house_income))\n",
    "zip_mhi"
   ],
   "cell_type": "code",
   "metadata": {},
   "execution_count": null,
   "outputs": []
  },
  {
   "cell_type": "markdown",
   "metadata": {},
   "source": [
    "## Step 2: Exploratory Data Analysis \n",
    "    \n",
    "Become familiar with the data.  Look to see if there are any extreme values.  \n",
    "\n",
    "Additionally create data visualizations to determine if there are any relationships between your features and your target variables.  "
   ]
  },
  {
   "cell_type": "code",
   "execution_count": 31,
   "metadata": {},
   "outputs": [],
   "source": [
    "#reading data in\n",
    "kc_df = pd.read_csv('kc_house_data_train.csv')\n",
    "kc_house_test = pd.read_csv('kc_house_data_test_features.csv')\n",
    "#zip_score = pd.read_csv('Niche.csv')[['zipcode']]\n",
    "#kc_df = zip_score.set_index('zipcode').join(kc_house.set_index('zipcode'))"
   ]
  },
  {
   "cell_type": "code",
   "execution_count": 32,
   "metadata": {},
   "outputs": [],
   "source": [
    "kc_df = kc_df.reset_index()"
   ]
  },
  {
   "cell_type": "code",
   "execution_count": 33,
   "metadata": {},
   "outputs": [],
   "source": [
    "#Keeping the ID column\n",
    "kc_id = kc_df['id']\n",
    "\n",
    "#dropping the ID\n",
    "kc_df.drop(['id', 'Unnamed: 0', 'date', 'sqft_living15', 'sqft_lot15' ], axis = 1, inplace = True)\n",
    "\n",
    "target = kc_df['price']"
   ]
  },
  {
   "cell_type": "code",
   "execution_count": 34,
   "metadata": {},
   "outputs": [],
   "source": [
    "kc_df.drop('index', axis = 1, inplace = True)"
   ]
  },
  {
   "cell_type": "code",
   "execution_count": 35,
   "metadata": {},
   "outputs": [
    {
     "output_type": "execute_result",
     "data": {
      "text/plain": [
       "           price  bedrooms  bathrooms  sqft_living  sqft_lot  floors  \\\n",
       "0       365000.0         4       2.25         2070      8893     2.0   \n",
       "1       865000.0         5       3.00         2900      6730     1.0   \n",
       "2      1038000.0         4       2.50         3770     10893     2.0   \n",
       "3      1490000.0         3       3.50         4560     14608     2.0   \n",
       "4       711000.0         3       2.50         2550      5376     2.0   \n",
       "...          ...       ...        ...          ...       ...     ...   \n",
       "17285   750000.0         5       2.50         3240      9960     1.0   \n",
       "17286   440000.0         2       1.75         1300      4000     2.0   \n",
       "17287   310000.0         3       1.00         1050      9876     1.0   \n",
       "17288   427500.0         3       1.50         1900     43186     1.5   \n",
       "17289   348000.0         3       1.50         1330      6768     1.0   \n",
       "\n",
       "       waterfront  view  condition  grade  sqft_above  sqft_basement  \\\n",
       "0               0     0          4      8        2070              0   \n",
       "1               0     0          5      8        1830           1070   \n",
       "2               0     2          3     11        3770              0   \n",
       "3               0     2          3     12        4560              0   \n",
       "4               0     0          3      9        2550              0   \n",
       "...           ...   ...        ...    ...         ...            ...   \n",
       "17285           0     1          3      8        2020           1220   \n",
       "17286           0     0          3      7        1300              0   \n",
       "17287           0     0          3      7        1050              0   \n",
       "17288           0     0          4      7        1300            600   \n",
       "17289           0     0          4      7        1330              0   \n",
       "\n",
       "       yr_built  yr_renovated  zipcode      lat     long  \n",
       "0          1986             0    98058  47.4388 -122.162  \n",
       "1          1977             0    98115  47.6784 -122.285  \n",
       "2          1997             0    98006  47.5646 -122.129  \n",
       "3          1990             0    98034  47.6995 -122.228  \n",
       "4          2004             0    98052  47.6647 -122.083  \n",
       "...         ...           ...      ...      ...      ...  \n",
       "17285      1958             0    98008  47.5858 -122.112  \n",
       "17286      1948             0    98105  47.6687 -122.288  \n",
       "17287      1953             0    98028  47.7635 -122.262  \n",
       "17288      1971             0    98038  47.4199 -121.990  \n",
       "17289      1952             0    98155  47.7366 -122.319  \n",
       "\n",
       "[17290 rows x 17 columns]"
      ],
      "text/html": "<div>\n<style scoped>\n    .dataframe tbody tr th:only-of-type {\n        vertical-align: middle;\n    }\n\n    .dataframe tbody tr th {\n        vertical-align: top;\n    }\n\n    .dataframe thead th {\n        text-align: right;\n    }\n</style>\n<table border=\"1\" class=\"dataframe\">\n  <thead>\n    <tr style=\"text-align: right;\">\n      <th></th>\n      <th>price</th>\n      <th>bedrooms</th>\n      <th>bathrooms</th>\n      <th>sqft_living</th>\n      <th>sqft_lot</th>\n      <th>floors</th>\n      <th>waterfront</th>\n      <th>view</th>\n      <th>condition</th>\n      <th>grade</th>\n      <th>sqft_above</th>\n      <th>sqft_basement</th>\n      <th>yr_built</th>\n      <th>yr_renovated</th>\n      <th>zipcode</th>\n      <th>lat</th>\n      <th>long</th>\n    </tr>\n  </thead>\n  <tbody>\n    <tr>\n      <th>0</th>\n      <td>365000.0</td>\n      <td>4</td>\n      <td>2.25</td>\n      <td>2070</td>\n      <td>8893</td>\n      <td>2.0</td>\n      <td>0</td>\n      <td>0</td>\n      <td>4</td>\n      <td>8</td>\n      <td>2070</td>\n      <td>0</td>\n      <td>1986</td>\n      <td>0</td>\n      <td>98058</td>\n      <td>47.4388</td>\n      <td>-122.162</td>\n    </tr>\n    <tr>\n      <th>1</th>\n      <td>865000.0</td>\n      <td>5</td>\n      <td>3.00</td>\n      <td>2900</td>\n      <td>6730</td>\n      <td>1.0</td>\n      <td>0</td>\n      <td>0</td>\n      <td>5</td>\n      <td>8</td>\n      <td>1830</td>\n      <td>1070</td>\n      <td>1977</td>\n      <td>0</td>\n      <td>98115</td>\n      <td>47.6784</td>\n      <td>-122.285</td>\n    </tr>\n    <tr>\n      <th>2</th>\n      <td>1038000.0</td>\n      <td>4</td>\n      <td>2.50</td>\n      <td>3770</td>\n      <td>10893</td>\n      <td>2.0</td>\n      <td>0</td>\n      <td>2</td>\n      <td>3</td>\n      <td>11</td>\n      <td>3770</td>\n      <td>0</td>\n      <td>1997</td>\n      <td>0</td>\n      <td>98006</td>\n      <td>47.5646</td>\n      <td>-122.129</td>\n    </tr>\n    <tr>\n      <th>3</th>\n      <td>1490000.0</td>\n      <td>3</td>\n      <td>3.50</td>\n      <td>4560</td>\n      <td>14608</td>\n      <td>2.0</td>\n      <td>0</td>\n      <td>2</td>\n      <td>3</td>\n      <td>12</td>\n      <td>4560</td>\n      <td>0</td>\n      <td>1990</td>\n      <td>0</td>\n      <td>98034</td>\n      <td>47.6995</td>\n      <td>-122.228</td>\n    </tr>\n    <tr>\n      <th>4</th>\n      <td>711000.0</td>\n      <td>3</td>\n      <td>2.50</td>\n      <td>2550</td>\n      <td>5376</td>\n      <td>2.0</td>\n      <td>0</td>\n      <td>0</td>\n      <td>3</td>\n      <td>9</td>\n      <td>2550</td>\n      <td>0</td>\n      <td>2004</td>\n      <td>0</td>\n      <td>98052</td>\n      <td>47.6647</td>\n      <td>-122.083</td>\n    </tr>\n    <tr>\n      <th>...</th>\n      <td>...</td>\n      <td>...</td>\n      <td>...</td>\n      <td>...</td>\n      <td>...</td>\n      <td>...</td>\n      <td>...</td>\n      <td>...</td>\n      <td>...</td>\n      <td>...</td>\n      <td>...</td>\n      <td>...</td>\n      <td>...</td>\n      <td>...</td>\n      <td>...</td>\n      <td>...</td>\n      <td>...</td>\n    </tr>\n    <tr>\n      <th>17285</th>\n      <td>750000.0</td>\n      <td>5</td>\n      <td>2.50</td>\n      <td>3240</td>\n      <td>9960</td>\n      <td>1.0</td>\n      <td>0</td>\n      <td>1</td>\n      <td>3</td>\n      <td>8</td>\n      <td>2020</td>\n      <td>1220</td>\n      <td>1958</td>\n      <td>0</td>\n      <td>98008</td>\n      <td>47.5858</td>\n      <td>-122.112</td>\n    </tr>\n    <tr>\n      <th>17286</th>\n      <td>440000.0</td>\n      <td>2</td>\n      <td>1.75</td>\n      <td>1300</td>\n      <td>4000</td>\n      <td>2.0</td>\n      <td>0</td>\n      <td>0</td>\n      <td>3</td>\n      <td>7</td>\n      <td>1300</td>\n      <td>0</td>\n      <td>1948</td>\n      <td>0</td>\n      <td>98105</td>\n      <td>47.6687</td>\n      <td>-122.288</td>\n    </tr>\n    <tr>\n      <th>17287</th>\n      <td>310000.0</td>\n      <td>3</td>\n      <td>1.00</td>\n      <td>1050</td>\n      <td>9876</td>\n      <td>1.0</td>\n      <td>0</td>\n      <td>0</td>\n      <td>3</td>\n      <td>7</td>\n      <td>1050</td>\n      <td>0</td>\n      <td>1953</td>\n      <td>0</td>\n      <td>98028</td>\n      <td>47.7635</td>\n      <td>-122.262</td>\n    </tr>\n    <tr>\n      <th>17288</th>\n      <td>427500.0</td>\n      <td>3</td>\n      <td>1.50</td>\n      <td>1900</td>\n      <td>43186</td>\n      <td>1.5</td>\n      <td>0</td>\n      <td>0</td>\n      <td>4</td>\n      <td>7</td>\n      <td>1300</td>\n      <td>600</td>\n      <td>1971</td>\n      <td>0</td>\n      <td>98038</td>\n      <td>47.4199</td>\n      <td>-121.990</td>\n    </tr>\n    <tr>\n      <th>17289</th>\n      <td>348000.0</td>\n      <td>3</td>\n      <td>1.50</td>\n      <td>1330</td>\n      <td>6768</td>\n      <td>1.0</td>\n      <td>0</td>\n      <td>0</td>\n      <td>4</td>\n      <td>7</td>\n      <td>1330</td>\n      <td>0</td>\n      <td>1952</td>\n      <td>0</td>\n      <td>98155</td>\n      <td>47.7366</td>\n      <td>-122.319</td>\n    </tr>\n  </tbody>\n</table>\n<p>17290 rows × 17 columns</p>\n</div>"
     },
     "metadata": {},
     "execution_count": 35
    }
   ],
   "source": [
    "kc_df"
   ]
  },
  {
   "source": [
    "price_corr = kc_df[kc_df.columns[:]].corr()['price'][:]\n",
    "price_corr.sort_values()"
   ],
   "cell_type": "code",
   "metadata": {},
   "execution_count": null,
   "outputs": []
  },
  {
   "source": [
    "#kc_house.corr()\n",
    "\n",
    "def high_corr(df, alpha = 0.7):\n",
    "    corr = df[[cor for cor in df.columns if cor != 'price']].corr()\n",
    "\n",
    "    corr_tuples = [(f, list(s[abs(s) > alpha].index)) for f,s in corr.iteritems()]\n",
    "\n",
    "    for t1, t2 in corr_tuples:\n",
    "        if t1 in t2:\n",
    "            t2.remove(t1)\n",
    "\n",
    "    corr_f = [t for t in corr_tuples if len(t[1]) != 0]\n",
    "\n",
    "    highly_corr = []\n",
    "    for t in corr_f:\n",
    "        for f in t[1]:\n",
    "            highly_corr.append(f)\n",
    "\n",
    "    return list(set(highly_corr))\n"
   ],
   "cell_type": "code",
   "metadata": {},
   "execution_count": null,
   "outputs": []
  },
  {
   "source": [
    "high_corr(kc_house)"
   ],
   "cell_type": "code",
   "metadata": {},
   "execution_count": null,
   "outputs": []
  },
  {
   "source": [
    "fig = plt.figure(figsize=(20,10))\n",
    "plt.subplot(2,1,1)\n",
    "plt.ylabel('Frequency')\n",
    "sns.distplot(kc_house['price'])\n",
    "plt.subplot(2,1,2)\n",
    "plt.boxplot(kc_house['price'], vert= False)\n",
    "plt.xlabel('price')\n",
    "plt.show()"
   ],
   "cell_type": "code",
   "metadata": {},
   "execution_count": null,
   "outputs": []
  },
  {
   "cell_type": "markdown",
   "metadata": {},
   "source": [
    "## Step 3: Clean up any issues (extreme values, etc.) with the data.  \n",
    "\n",
    "Remember that you can't just delete rows with extreme values. Similar observations might be present in the holdout data set, and you can't just delete those rows and not have a prediction for it. "
   ]
  },
  {
   "source": [
    "Gameplan\n",
    "\n",
    "- transform extreme values of rows, i.e. # of bedrooms (one with 33)\n",
    "    \n",
    "- using sqft living to estimate missing bathrooms\n",
    "\n",
    "- turn basement into cat\n",
    "\n",
    "- year built / reno\n",
    "\n",
    "- check on grade vs housing built / reno\n",
    "\n",
    "- view (as the view goes up it gets 'better and better')\n",
    "\n",
    "Features\n",
    "\n",
    "- Niche perhaps (school grades - cat dummy variable) [csv]\n",
    "\n",
    "- Prox to Parks or Nature [geospat]\n",
    "\n",
    "- effect of Population density [csv - census]\n",
    "\n",
    "- relation between space and price [sqft vs price (some other feature)]\n",
    "\n",
    "- population growth (increase of supply for limited demand)\n",
    "\n",
    "- access to city center [geospat]\n",
    "\n",
    "- prox to commerical businesses [geospat]\n",
    "\n",
    "-squaring bd bath in our linear model\n",
    "\n"
   ],
   "cell_type": "markdown",
   "metadata": {}
  },
  {
   "cell_type": "code",
   "execution_count": 6,
   "metadata": {},
   "outputs": [],
   "source": [
    "# kc_df['sqft_liv_lot'] = np.nan\n",
    "\n",
    "# def n_sqft_liv_lot(row):\n",
    "#     row['sqft_liv_lot'] = (row['sqft_living'] / row['sqft_lot'])    \n",
    "#     return row\n",
    "\n",
    "# kc_df = kc_df.apply(n_sqft_liv_lot, axis = 1)"
   ]
  },
  {
   "cell_type": "code",
   "execution_count": 7,
   "metadata": {},
   "outputs": [],
   "source": [
    "# def n_sqft_living(row):\n",
    "#     if row['sqft_living'] > 5000:\n",
    "#         row['sqft_living'] = 5000    \n",
    "#     return row\n",
    "\n",
    "# kc_df = kc_df.apply(n_sqft_living, axis = 1)"
   ]
  },
  {
   "cell_type": "code",
   "execution_count": 8,
   "metadata": {},
   "outputs": [],
   "source": [
    "# def n_sqft_lot(row):\n",
    "#     if row['sqft_lot'] > 75000:\n",
    "#         row['sqft_lot'] = 75000    \n",
    "#     return row\n",
    "\n",
    "# kc_df = kc_df.apply(n_sqft_lot, axis = 1)"
   ]
  },
  {
   "cell_type": "code",
   "execution_count": 36,
   "metadata": {},
   "outputs": [],
   "source": [
    "def n_bed(row):\n",
    "    if row['bedrooms'] ==0:\n",
    "        row['bedrooms'] = row['floors']\n",
    "    if row['bedrooms'] > 10:\n",
    "        row['bedrooms'] = 10\n",
    "    return row\n",
    "\n",
    "kc_df = kc_df.apply(n_bed, axis = 1)"
   ]
  },
  {
   "cell_type": "code",
   "execution_count": 37,
   "metadata": {},
   "outputs": [],
   "source": [
    "def n_bath(row):\n",
    "    if row['bathrooms'] == 0:\n",
    "        row['bathrooms'] = 1\n",
    "    if row['bathrooms'] > 8:\n",
    "        row['bathrooms'] = 8\n",
    "    return row\n",
    "\n",
    "kc_df = kc_df.apply(n_bath, axis = 1)"
   ]
  },
  {
   "cell_type": "code",
   "execution_count": 38,
   "metadata": {},
   "outputs": [],
   "source": [
    "#Turn basements into a categorical set in the column\n",
    "\n",
    "kc_df['sqft_basement'] = np.where(kc_df['sqft_basement'] != 0, 1, 0)"
   ]
  },
  {
   "cell_type": "code",
   "execution_count": 39,
   "metadata": {},
   "outputs": [],
   "source": [
    "kc_df['yr_updated'] = np.nan\n",
    "\n",
    "def yr_update(row):\n",
    "    if row['yr_renovated'] == 0:\n",
    "        row['yr_updated'] =2021 - row['yr_built']\n",
    "    elif row['yr_renovated'] != 0:\n",
    "        row['yr_updated'] = 2021 - row['yr_renovated']\n",
    "    return row['yr_updated']\n",
    "\n",
    "kc_df['yr_updated'] = kc_df.apply(yr_update, axis = 1)\n",
    "kc_df.drop(['yr_built',\t'yr_renovated' ], axis = 1, inplace = True)"
   ]
  },
  {
   "cell_type": "code",
   "execution_count": 40,
   "metadata": {},
   "outputs": [],
   "source": [
    "def city_distance(row):\n",
    "    dist = geopy.distance.geodesic((47.6205,122.3493), (row['lat'], abs(row['long'])))\n",
    "    return dist.miles\n",
    "\n",
    "kc_df['dist_city'] = kc_df.apply(city_distance, axis=1)\n",
    "kc_df.drop(['lat',\t'long' ], axis = 1, inplace = True)"
   ]
  },
  {
   "cell_type": "code",
   "execution_count": 14,
   "metadata": {},
   "outputs": [],
   "source": [
    "# def school_grade(row):\n",
    "#     if row['school_grade'] in ['A+', 'A', 'A-', 'A+ ', 'A ', 'A- ']:\n",
    "#         row['school_grade'] = 5\n",
    "#     if row['school_grade'] in ['B+', 'B', 'B-', 'B+ ', 'B ', 'B- ']:\n",
    "#         row['school_grade'] = 3\n",
    "#     if row['school_grade'] in ['C+', 'C', 'C-', 'C+ ', 'C ', 'C- ']:\n",
    "#         row['school_grade'] = 1\n",
    "#     return row\n",
    "\n",
    "# kc_df = kc_df.apply(school_grade, axis=1)"
   ]
  },
  {
   "cell_type": "code",
   "execution_count": 41,
   "metadata": {},
   "outputs": [
    {
     "output_type": "execute_result",
     "data": {
      "text/plain": [
       "           price  bedrooms  bathrooms  sqft_living  sqft_lot  floors  \\\n",
       "0       365000.0       4.0       2.25       2070.0    8893.0     2.0   \n",
       "1       865000.0       5.0       3.00       2900.0    6730.0     1.0   \n",
       "2      1038000.0       4.0       2.50       3770.0   10893.0     2.0   \n",
       "3      1490000.0       3.0       3.50       4560.0   14608.0     2.0   \n",
       "4       711000.0       3.0       2.50       2550.0    5376.0     2.0   \n",
       "...          ...       ...        ...          ...       ...     ...   \n",
       "17285   750000.0       5.0       2.50       3240.0    9960.0     1.0   \n",
       "17286   440000.0       2.0       1.75       1300.0    4000.0     2.0   \n",
       "17287   310000.0       3.0       1.00       1050.0    9876.0     1.0   \n",
       "17288   427500.0       3.0       1.50       1900.0   43186.0     1.5   \n",
       "17289   348000.0       3.0       1.50       1330.0    6768.0     1.0   \n",
       "\n",
       "       waterfront  view  condition  grade  sqft_above  sqft_basement  zipcode  \\\n",
       "0             0.0   0.0        4.0    8.0      2070.0              0  98058.0   \n",
       "1             0.0   0.0        5.0    8.0      1830.0              1  98115.0   \n",
       "2             0.0   2.0        3.0   11.0      3770.0              0  98006.0   \n",
       "3             0.0   2.0        3.0   12.0      4560.0              0  98034.0   \n",
       "4             0.0   0.0        3.0    9.0      2550.0              0  98052.0   \n",
       "...           ...   ...        ...    ...         ...            ...      ...   \n",
       "17285         0.0   1.0        3.0    8.0      2020.0              1  98008.0   \n",
       "17286         0.0   0.0        3.0    7.0      1300.0              0  98105.0   \n",
       "17287         0.0   0.0        3.0    7.0      1050.0              0  98028.0   \n",
       "17288         0.0   0.0        4.0    7.0      1300.0              1  98038.0   \n",
       "17289         0.0   0.0        4.0    7.0      1330.0              0  98155.0   \n",
       "\n",
       "       yr_updated  dist_city  \n",
       "0            35.0  15.309262  \n",
       "1            44.0   5.001116  \n",
       "2            24.0  10.995967  \n",
       "3            31.0   7.863897  \n",
       "4            17.0  12.802871  \n",
       "...           ...        ...  \n",
       "17285        63.0  11.343927  \n",
       "17286        73.0   4.390826  \n",
       "17287        68.0  10.685734  \n",
       "17288        50.0  21.789572  \n",
       "17289        69.0   8.144585  \n",
       "\n",
       "[17290 rows x 15 columns]"
      ],
      "text/html": "<div>\n<style scoped>\n    .dataframe tbody tr th:only-of-type {\n        vertical-align: middle;\n    }\n\n    .dataframe tbody tr th {\n        vertical-align: top;\n    }\n\n    .dataframe thead th {\n        text-align: right;\n    }\n</style>\n<table border=\"1\" class=\"dataframe\">\n  <thead>\n    <tr style=\"text-align: right;\">\n      <th></th>\n      <th>price</th>\n      <th>bedrooms</th>\n      <th>bathrooms</th>\n      <th>sqft_living</th>\n      <th>sqft_lot</th>\n      <th>floors</th>\n      <th>waterfront</th>\n      <th>view</th>\n      <th>condition</th>\n      <th>grade</th>\n      <th>sqft_above</th>\n      <th>sqft_basement</th>\n      <th>zipcode</th>\n      <th>yr_updated</th>\n      <th>dist_city</th>\n    </tr>\n  </thead>\n  <tbody>\n    <tr>\n      <th>0</th>\n      <td>365000.0</td>\n      <td>4.0</td>\n      <td>2.25</td>\n      <td>2070.0</td>\n      <td>8893.0</td>\n      <td>2.0</td>\n      <td>0.0</td>\n      <td>0.0</td>\n      <td>4.0</td>\n      <td>8.0</td>\n      <td>2070.0</td>\n      <td>0</td>\n      <td>98058.0</td>\n      <td>35.0</td>\n      <td>15.309262</td>\n    </tr>\n    <tr>\n      <th>1</th>\n      <td>865000.0</td>\n      <td>5.0</td>\n      <td>3.00</td>\n      <td>2900.0</td>\n      <td>6730.0</td>\n      <td>1.0</td>\n      <td>0.0</td>\n      <td>0.0</td>\n      <td>5.0</td>\n      <td>8.0</td>\n      <td>1830.0</td>\n      <td>1</td>\n      <td>98115.0</td>\n      <td>44.0</td>\n      <td>5.001116</td>\n    </tr>\n    <tr>\n      <th>2</th>\n      <td>1038000.0</td>\n      <td>4.0</td>\n      <td>2.50</td>\n      <td>3770.0</td>\n      <td>10893.0</td>\n      <td>2.0</td>\n      <td>0.0</td>\n      <td>2.0</td>\n      <td>3.0</td>\n      <td>11.0</td>\n      <td>3770.0</td>\n      <td>0</td>\n      <td>98006.0</td>\n      <td>24.0</td>\n      <td>10.995967</td>\n    </tr>\n    <tr>\n      <th>3</th>\n      <td>1490000.0</td>\n      <td>3.0</td>\n      <td>3.50</td>\n      <td>4560.0</td>\n      <td>14608.0</td>\n      <td>2.0</td>\n      <td>0.0</td>\n      <td>2.0</td>\n      <td>3.0</td>\n      <td>12.0</td>\n      <td>4560.0</td>\n      <td>0</td>\n      <td>98034.0</td>\n      <td>31.0</td>\n      <td>7.863897</td>\n    </tr>\n    <tr>\n      <th>4</th>\n      <td>711000.0</td>\n      <td>3.0</td>\n      <td>2.50</td>\n      <td>2550.0</td>\n      <td>5376.0</td>\n      <td>2.0</td>\n      <td>0.0</td>\n      <td>0.0</td>\n      <td>3.0</td>\n      <td>9.0</td>\n      <td>2550.0</td>\n      <td>0</td>\n      <td>98052.0</td>\n      <td>17.0</td>\n      <td>12.802871</td>\n    </tr>\n    <tr>\n      <th>...</th>\n      <td>...</td>\n      <td>...</td>\n      <td>...</td>\n      <td>...</td>\n      <td>...</td>\n      <td>...</td>\n      <td>...</td>\n      <td>...</td>\n      <td>...</td>\n      <td>...</td>\n      <td>...</td>\n      <td>...</td>\n      <td>...</td>\n      <td>...</td>\n      <td>...</td>\n    </tr>\n    <tr>\n      <th>17285</th>\n      <td>750000.0</td>\n      <td>5.0</td>\n      <td>2.50</td>\n      <td>3240.0</td>\n      <td>9960.0</td>\n      <td>1.0</td>\n      <td>0.0</td>\n      <td>1.0</td>\n      <td>3.0</td>\n      <td>8.0</td>\n      <td>2020.0</td>\n      <td>1</td>\n      <td>98008.0</td>\n      <td>63.0</td>\n      <td>11.343927</td>\n    </tr>\n    <tr>\n      <th>17286</th>\n      <td>440000.0</td>\n      <td>2.0</td>\n      <td>1.75</td>\n      <td>1300.0</td>\n      <td>4000.0</td>\n      <td>2.0</td>\n      <td>0.0</td>\n      <td>0.0</td>\n      <td>3.0</td>\n      <td>7.0</td>\n      <td>1300.0</td>\n      <td>0</td>\n      <td>98105.0</td>\n      <td>73.0</td>\n      <td>4.390826</td>\n    </tr>\n    <tr>\n      <th>17287</th>\n      <td>310000.0</td>\n      <td>3.0</td>\n      <td>1.00</td>\n      <td>1050.0</td>\n      <td>9876.0</td>\n      <td>1.0</td>\n      <td>0.0</td>\n      <td>0.0</td>\n      <td>3.0</td>\n      <td>7.0</td>\n      <td>1050.0</td>\n      <td>0</td>\n      <td>98028.0</td>\n      <td>68.0</td>\n      <td>10.685734</td>\n    </tr>\n    <tr>\n      <th>17288</th>\n      <td>427500.0</td>\n      <td>3.0</td>\n      <td>1.50</td>\n      <td>1900.0</td>\n      <td>43186.0</td>\n      <td>1.5</td>\n      <td>0.0</td>\n      <td>0.0</td>\n      <td>4.0</td>\n      <td>7.0</td>\n      <td>1300.0</td>\n      <td>1</td>\n      <td>98038.0</td>\n      <td>50.0</td>\n      <td>21.789572</td>\n    </tr>\n    <tr>\n      <th>17289</th>\n      <td>348000.0</td>\n      <td>3.0</td>\n      <td>1.50</td>\n      <td>1330.0</td>\n      <td>6768.0</td>\n      <td>1.0</td>\n      <td>0.0</td>\n      <td>0.0</td>\n      <td>4.0</td>\n      <td>7.0</td>\n      <td>1330.0</td>\n      <td>0</td>\n      <td>98155.0</td>\n      <td>69.0</td>\n      <td>8.144585</td>\n    </tr>\n  </tbody>\n</table>\n<p>17290 rows × 15 columns</p>\n</div>"
     },
     "metadata": {},
     "execution_count": 41
    }
   ],
   "source": [
    "kc_df"
   ]
  },
  {
   "source": [
    "no_p = list(kc_df.columns.drop('price'))"
   ],
   "cell_type": "code",
   "metadata": {},
   "execution_count": 13,
   "outputs": []
  },
  {
   "cell_type": "code",
   "execution_count": 14,
   "metadata": {},
   "outputs": [
    {
     "output_type": "execute_result",
     "data": {
      "text/plain": [
       "['bedrooms',\n",
       " 'bathrooms',\n",
       " 'sqft_living',\n",
       " 'sqft_lot',\n",
       " 'floors',\n",
       " 'waterfront',\n",
       " 'view',\n",
       " 'condition',\n",
       " 'grade',\n",
       " 'sqft_basement',\n",
       " 'zipcode',\n",
       " 'yr_updated',\n",
       " 'dist_city']"
      ]
     },
     "metadata": {},
     "execution_count": 14
    }
   ],
   "source": [
    "no_p"
   ]
  },
  {
   "source": [
    "# Setting up our Dummies"
   ],
   "cell_type": "markdown",
   "metadata": {}
  },
  {
   "cell_type": "code",
   "execution_count": 42,
   "metadata": {},
   "outputs": [],
   "source": [
    "cat_var = ['zipcode', 'condition', 'view', 'floors', 'grade', 'waterfront','sqft_basement']\n",
    "cont_var = ['bedrooms', 'bathrooms', 'dist_city', 'sqft_living', 'sqft_above', 'sqft_lot', 'yr_updated']"
   ]
  },
  {
   "cell_type": "code",
   "execution_count": 43,
   "metadata": {},
   "outputs": [],
   "source": [
    "# your code here\n",
    "# fuction to generate a dummy variable for a feature\n",
    "# needs tweeks\n",
    "def to_dummies(df, features):\n",
    "   \n",
    "    d_df = []\n",
    "    for f in features:\n",
    "        d_df.append(pd.get_dummies(df[f], prefix='{}'.format(str(f)[:3]), drop_first=True))\n",
    "    df = df.drop(features, axis = 1)\n",
    "    df = pd.concat([df] + d_df ,axis=1)\n",
    "    return df\n"
   ]
  },
  {
   "cell_type": "code",
   "execution_count": 44,
   "metadata": {},
   "outputs": [],
   "source": [
    "kc_df = to_dummies(kc_df, cat_var)"
   ]
  },
  {
   "cell_type": "code",
   "execution_count": 45,
   "metadata": {},
   "outputs": [
    {
     "output_type": "execute_result",
     "data": {
      "text/plain": [
       "           price  bedrooms  bathrooms  sqft_living  sqft_lot  sqft_above  \\\n",
       "0       365000.0       4.0       2.25       2070.0    8893.0      2070.0   \n",
       "1       865000.0       5.0       3.00       2900.0    6730.0      1830.0   \n",
       "2      1038000.0       4.0       2.50       3770.0   10893.0      3770.0   \n",
       "3      1490000.0       3.0       3.50       4560.0   14608.0      4560.0   \n",
       "4       711000.0       3.0       2.50       2550.0    5376.0      2550.0   \n",
       "...          ...       ...        ...          ...       ...         ...   \n",
       "17285   750000.0       5.0       2.50       3240.0    9960.0      2020.0   \n",
       "17286   440000.0       2.0       1.75       1300.0    4000.0      1300.0   \n",
       "17287   310000.0       3.0       1.00       1050.0    9876.0      1050.0   \n",
       "17288   427500.0       3.0       1.50       1900.0   43186.0      1300.0   \n",
       "17289   348000.0       3.0       1.50       1330.0    6768.0      1330.0   \n",
       "\n",
       "       yr_updated  dist_city  zip_98002.0  zip_98003.0  ...  gra_6.0  gra_7.0  \\\n",
       "0            35.0  15.309262            0            0  ...        0        0   \n",
       "1            44.0   5.001116            0            0  ...        0        0   \n",
       "2            24.0  10.995967            0            0  ...        0        0   \n",
       "3            31.0   7.863897            0            0  ...        0        0   \n",
       "4            17.0  12.802871            0            0  ...        0        0   \n",
       "...           ...        ...          ...          ...  ...      ...      ...   \n",
       "17285        63.0  11.343927            0            0  ...        0        0   \n",
       "17286        73.0   4.390826            0            0  ...        0        1   \n",
       "17287        68.0  10.685734            0            0  ...        0        1   \n",
       "17288        50.0  21.789572            0            0  ...        0        1   \n",
       "17289        69.0   8.144585            0            0  ...        0        1   \n",
       "\n",
       "       gra_8.0  gra_9.0  gra_10.0  gra_11.0  gra_12.0  gra_13.0  wat_1.0  \\\n",
       "0            1        0         0         0         0         0        0   \n",
       "1            1        0         0         0         0         0        0   \n",
       "2            0        0         0         1         0         0        0   \n",
       "3            0        0         0         0         1         0        0   \n",
       "4            0        1         0         0         0         0        0   \n",
       "...        ...      ...       ...       ...       ...       ...      ...   \n",
       "17285        1        0         0         0         0         0        0   \n",
       "17286        0        0         0         0         0         0        0   \n",
       "17287        0        0         0         0         0         0        0   \n",
       "17288        0        0         0         0         0         0        0   \n",
       "17289        0        0         0         0         0         0        0   \n",
       "\n",
       "       sqf_1  \n",
       "0          0  \n",
       "1          1  \n",
       "2          0  \n",
       "3          0  \n",
       "4          0  \n",
       "...      ...  \n",
       "17285      1  \n",
       "17286      0  \n",
       "17287      0  \n",
       "17288      1  \n",
       "17289      0  \n",
       "\n",
       "[17290 rows x 103 columns]"
      ],
      "text/html": "<div>\n<style scoped>\n    .dataframe tbody tr th:only-of-type {\n        vertical-align: middle;\n    }\n\n    .dataframe tbody tr th {\n        vertical-align: top;\n    }\n\n    .dataframe thead th {\n        text-align: right;\n    }\n</style>\n<table border=\"1\" class=\"dataframe\">\n  <thead>\n    <tr style=\"text-align: right;\">\n      <th></th>\n      <th>price</th>\n      <th>bedrooms</th>\n      <th>bathrooms</th>\n      <th>sqft_living</th>\n      <th>sqft_lot</th>\n      <th>sqft_above</th>\n      <th>yr_updated</th>\n      <th>dist_city</th>\n      <th>zip_98002.0</th>\n      <th>zip_98003.0</th>\n      <th>...</th>\n      <th>gra_6.0</th>\n      <th>gra_7.0</th>\n      <th>gra_8.0</th>\n      <th>gra_9.0</th>\n      <th>gra_10.0</th>\n      <th>gra_11.0</th>\n      <th>gra_12.0</th>\n      <th>gra_13.0</th>\n      <th>wat_1.0</th>\n      <th>sqf_1</th>\n    </tr>\n  </thead>\n  <tbody>\n    <tr>\n      <th>0</th>\n      <td>365000.0</td>\n      <td>4.0</td>\n      <td>2.25</td>\n      <td>2070.0</td>\n      <td>8893.0</td>\n      <td>2070.0</td>\n      <td>35.0</td>\n      <td>15.309262</td>\n      <td>0</td>\n      <td>0</td>\n      <td>...</td>\n      <td>0</td>\n      <td>0</td>\n      <td>1</td>\n      <td>0</td>\n      <td>0</td>\n      <td>0</td>\n      <td>0</td>\n      <td>0</td>\n      <td>0</td>\n      <td>0</td>\n    </tr>\n    <tr>\n      <th>1</th>\n      <td>865000.0</td>\n      <td>5.0</td>\n      <td>3.00</td>\n      <td>2900.0</td>\n      <td>6730.0</td>\n      <td>1830.0</td>\n      <td>44.0</td>\n      <td>5.001116</td>\n      <td>0</td>\n      <td>0</td>\n      <td>...</td>\n      <td>0</td>\n      <td>0</td>\n      <td>1</td>\n      <td>0</td>\n      <td>0</td>\n      <td>0</td>\n      <td>0</td>\n      <td>0</td>\n      <td>0</td>\n      <td>1</td>\n    </tr>\n    <tr>\n      <th>2</th>\n      <td>1038000.0</td>\n      <td>4.0</td>\n      <td>2.50</td>\n      <td>3770.0</td>\n      <td>10893.0</td>\n      <td>3770.0</td>\n      <td>24.0</td>\n      <td>10.995967</td>\n      <td>0</td>\n      <td>0</td>\n      <td>...</td>\n      <td>0</td>\n      <td>0</td>\n      <td>0</td>\n      <td>0</td>\n      <td>0</td>\n      <td>1</td>\n      <td>0</td>\n      <td>0</td>\n      <td>0</td>\n      <td>0</td>\n    </tr>\n    <tr>\n      <th>3</th>\n      <td>1490000.0</td>\n      <td>3.0</td>\n      <td>3.50</td>\n      <td>4560.0</td>\n      <td>14608.0</td>\n      <td>4560.0</td>\n      <td>31.0</td>\n      <td>7.863897</td>\n      <td>0</td>\n      <td>0</td>\n      <td>...</td>\n      <td>0</td>\n      <td>0</td>\n      <td>0</td>\n      <td>0</td>\n      <td>0</td>\n      <td>0</td>\n      <td>1</td>\n      <td>0</td>\n      <td>0</td>\n      <td>0</td>\n    </tr>\n    <tr>\n      <th>4</th>\n      <td>711000.0</td>\n      <td>3.0</td>\n      <td>2.50</td>\n      <td>2550.0</td>\n      <td>5376.0</td>\n      <td>2550.0</td>\n      <td>17.0</td>\n      <td>12.802871</td>\n      <td>0</td>\n      <td>0</td>\n      <td>...</td>\n      <td>0</td>\n      <td>0</td>\n      <td>0</td>\n      <td>1</td>\n      <td>0</td>\n      <td>0</td>\n      <td>0</td>\n      <td>0</td>\n      <td>0</td>\n      <td>0</td>\n    </tr>\n    <tr>\n      <th>...</th>\n      <td>...</td>\n      <td>...</td>\n      <td>...</td>\n      <td>...</td>\n      <td>...</td>\n      <td>...</td>\n      <td>...</td>\n      <td>...</td>\n      <td>...</td>\n      <td>...</td>\n      <td>...</td>\n      <td>...</td>\n      <td>...</td>\n      <td>...</td>\n      <td>...</td>\n      <td>...</td>\n      <td>...</td>\n      <td>...</td>\n      <td>...</td>\n      <td>...</td>\n      <td>...</td>\n    </tr>\n    <tr>\n      <th>17285</th>\n      <td>750000.0</td>\n      <td>5.0</td>\n      <td>2.50</td>\n      <td>3240.0</td>\n      <td>9960.0</td>\n      <td>2020.0</td>\n      <td>63.0</td>\n      <td>11.343927</td>\n      <td>0</td>\n      <td>0</td>\n      <td>...</td>\n      <td>0</td>\n      <td>0</td>\n      <td>1</td>\n      <td>0</td>\n      <td>0</td>\n      <td>0</td>\n      <td>0</td>\n      <td>0</td>\n      <td>0</td>\n      <td>1</td>\n    </tr>\n    <tr>\n      <th>17286</th>\n      <td>440000.0</td>\n      <td>2.0</td>\n      <td>1.75</td>\n      <td>1300.0</td>\n      <td>4000.0</td>\n      <td>1300.0</td>\n      <td>73.0</td>\n      <td>4.390826</td>\n      <td>0</td>\n      <td>0</td>\n      <td>...</td>\n      <td>0</td>\n      <td>1</td>\n      <td>0</td>\n      <td>0</td>\n      <td>0</td>\n      <td>0</td>\n      <td>0</td>\n      <td>0</td>\n      <td>0</td>\n      <td>0</td>\n    </tr>\n    <tr>\n      <th>17287</th>\n      <td>310000.0</td>\n      <td>3.0</td>\n      <td>1.00</td>\n      <td>1050.0</td>\n      <td>9876.0</td>\n      <td>1050.0</td>\n      <td>68.0</td>\n      <td>10.685734</td>\n      <td>0</td>\n      <td>0</td>\n      <td>...</td>\n      <td>0</td>\n      <td>1</td>\n      <td>0</td>\n      <td>0</td>\n      <td>0</td>\n      <td>0</td>\n      <td>0</td>\n      <td>0</td>\n      <td>0</td>\n      <td>0</td>\n    </tr>\n    <tr>\n      <th>17288</th>\n      <td>427500.0</td>\n      <td>3.0</td>\n      <td>1.50</td>\n      <td>1900.0</td>\n      <td>43186.0</td>\n      <td>1300.0</td>\n      <td>50.0</td>\n      <td>21.789572</td>\n      <td>0</td>\n      <td>0</td>\n      <td>...</td>\n      <td>0</td>\n      <td>1</td>\n      <td>0</td>\n      <td>0</td>\n      <td>0</td>\n      <td>0</td>\n      <td>0</td>\n      <td>0</td>\n      <td>0</td>\n      <td>1</td>\n    </tr>\n    <tr>\n      <th>17289</th>\n      <td>348000.0</td>\n      <td>3.0</td>\n      <td>1.50</td>\n      <td>1330.0</td>\n      <td>6768.0</td>\n      <td>1330.0</td>\n      <td>69.0</td>\n      <td>8.144585</td>\n      <td>0</td>\n      <td>0</td>\n      <td>...</td>\n      <td>0</td>\n      <td>1</td>\n      <td>0</td>\n      <td>0</td>\n      <td>0</td>\n      <td>0</td>\n      <td>0</td>\n      <td>0</td>\n      <td>0</td>\n      <td>0</td>\n    </tr>\n  </tbody>\n</table>\n<p>17290 rows × 103 columns</p>\n</div>"
     },
     "metadata": {},
     "execution_count": 45
    }
   ],
   "source": [
    "kc_df"
   ]
  },
  {
   "source": [
    "summary_features = list(kc_df.columns.drop('price'))"
   ],
   "cell_type": "code",
   "metadata": {},
   "execution_count": 46,
   "outputs": []
  },
  {
   "cell_type": "code",
   "execution_count": 119,
   "metadata": {},
   "outputs": [],
   "source": [
    "lol = list(kc_df.columns.drop('price'))"
   ]
  },
  {
   "cell_type": "code",
   "execution_count": null,
   "metadata": {},
   "outputs": [],
   "source": [
    "not_dummies = ['population',\n",
    " 'bedrooms',\n",
    " 'bathrooms',\n",
    " 'sqft_living',\n",
    " 'sqft_lot',\n",
    " 'sqft_above',\n",
    " 'sqft_basement',\n",
    " 'yr_built',\n",
    " 'yr_renovated',\n",
    " 'lat',\n",
    " 'long',\n",
    " 'sqft_living15',\n",
    " 'sqft_lot15',\n",
    " 'sqft_liv_lot',\n",
    " 'yr_updated',\n",
    " 'dist_city']\n",
    "\n"
   ]
  },
  {
   "cell_type": "code",
   "execution_count": null,
   "metadata": {},
   "outputs": [],
   "source": []
  },
  {
   "source": [
    "fix, ax = plt.subplots(4, 2, figsize=(50,75))\n",
    "for variables, subplot in zip(cat_data, ax.flatten()):\n",
    "    sns.countplot(kc_house, ax=subplot)\n",
    "    for label in subplot.get_xticklabels():\n",
    "        lebel.set_rotation(90) "
   ],
   "cell_type": "code",
   "metadata": {},
   "execution_count": null,
   "outputs": []
  },
  {
   "source": [
    "fig, ax = plt.subplots(3, 3, figsize = (60, 40))\n",
    "for var, subplot in zip(cat_data, ax.flatten()):\n",
    "    sns.boxplot(x=var, y='price', data = kc_house, ax=subplot)"
   ],
   "cell_type": "code",
   "metadata": {},
   "execution_count": null,
   "outputs": []
  },
  {
   "cell_type": "markdown",
   "metadata": {},
   "source": [
    "## Step 4: Generate new features that you think could be important.\n",
    "\n",
    "After doing this, you will want to go back to steps 2 and 3 to investigate these new features."
   ]
  },
  {
   "cell_type": "markdown",
   "metadata": {},
   "source": [
    "### 4.1) Identify a categorical variable in the data set and create dummy columns."
   ]
  },
  {
   "cell_type": "markdown",
   "metadata": {},
   "source": [
    "### 4.2) There is a column that gives the date for when the house was sold, how could this be useful in your model? How might you transform the current column to a more useful feature?"
   ]
  },
  {
   "cell_type": "markdown",
   "metadata": {},
   "source": [
    "### 4.3) There are columns for when the house was built and when it was renovated.  How could you use these columns to create a new column?"
   ]
  },
  {
   "cell_type": "markdown",
   "metadata": {},
   "source": [
    "### <ins>Non-linear transformations</ins>\n",
    "\n",
    "### 4.4) Create a polynomial feature for two of your continuous variables."
   ]
  },
  {
   "source": [
    "# your code here"
   ],
   "cell_type": "code",
   "metadata": {},
   "execution_count": null,
   "outputs": []
  },
  {
   "cell_type": "code",
   "execution_count": 47,
   "metadata": {},
   "outputs": [],
   "source": [
    "poly = PolynomialFeatures(degree = 2, include_bias = False)"
   ]
  },
  {
   "cell_type": "code",
   "execution_count": 48,
   "metadata": {},
   "outputs": [],
   "source": [
    "poly_data = poly.fit_transform(kc_df[cont_var])"
   ]
  },
  {
   "cell_type": "code",
   "execution_count": 49,
   "metadata": {},
   "outputs": [],
   "source": [
    "poly_columns = poly.get_feature_names(kc_df[cont_var].columns)"
   ]
  },
  {
   "cell_type": "code",
   "execution_count": 50,
   "metadata": {},
   "outputs": [],
   "source": [
    "df_poly = pd.DataFrame(poly_data, columns = poly_columns) "
   ]
  },
  {
   "cell_type": "code",
   "execution_count": 54,
   "metadata": {},
   "outputs": [
    {
     "output_type": "execute_result",
     "data": {
      "text/plain": [
       "       bedrooms  bathrooms  dist_city  sqft_living  sqft_above  sqft_lot  \\\n",
       "0           4.0       2.25  15.309262       2070.0      2070.0    8893.0   \n",
       "1           5.0       3.00   5.001116       2900.0      1830.0    6730.0   \n",
       "2           4.0       2.50  10.995967       3770.0      3770.0   10893.0   \n",
       "3           3.0       3.50   7.863897       4560.0      4560.0   14608.0   \n",
       "4           3.0       2.50  12.802871       2550.0      2550.0    5376.0   \n",
       "...         ...        ...        ...          ...         ...       ...   \n",
       "17285       5.0       2.50  11.343927       3240.0      2020.0    9960.0   \n",
       "17286       2.0       1.75   4.390826       1300.0      1300.0    4000.0   \n",
       "17287       3.0       1.00  10.685734       1050.0      1050.0    9876.0   \n",
       "17288       3.0       1.50  21.789572       1900.0      1300.0   43186.0   \n",
       "17289       3.0       1.50   8.144585       1330.0      1330.0    6768.0   \n",
       "\n",
       "       yr_updated  bedrooms^2  bedrooms bathrooms  bedrooms dist_city  ...  \\\n",
       "0            35.0        16.0                 9.0           61.237048  ...   \n",
       "1            44.0        25.0                15.0           25.005578  ...   \n",
       "2            24.0        16.0                10.0           43.983866  ...   \n",
       "3            31.0         9.0                10.5           23.591691  ...   \n",
       "4            17.0         9.0                 7.5           38.408613  ...   \n",
       "...           ...         ...                 ...                 ...  ...   \n",
       "17285        63.0        25.0                12.5           56.719634  ...   \n",
       "17286        73.0         4.0                 3.5            8.781652  ...   \n",
       "17287        68.0         9.0                 3.0           32.057202  ...   \n",
       "17288        50.0         9.0                 4.5           65.368716  ...   \n",
       "17289        69.0         9.0                 4.5           24.433754  ...   \n",
       "\n",
       "       sqft_living^2  sqft_living sqft_above  sqft_living sqft_lot  \\\n",
       "0          4284900.0               4284900.0            18408510.0   \n",
       "1          8410000.0               5307000.0            19517000.0   \n",
       "2         14212900.0              14212900.0            41066610.0   \n",
       "3         20793600.0              20793600.0            66612480.0   \n",
       "4          6502500.0               6502500.0            13708800.0   \n",
       "...              ...                     ...                   ...   \n",
       "17285     10497600.0               6544800.0            32270400.0   \n",
       "17286      1690000.0               1690000.0             5200000.0   \n",
       "17287      1102500.0               1102500.0            10369800.0   \n",
       "17288      3610000.0               2470000.0            82053400.0   \n",
       "17289      1768900.0               1768900.0             9001440.0   \n",
       "\n",
       "       sqft_living yr_updated  sqft_above^2  sqft_above sqft_lot  \\\n",
       "0                     72450.0     4284900.0           18408510.0   \n",
       "1                    127600.0     3348900.0           12315900.0   \n",
       "2                     90480.0    14212900.0           41066610.0   \n",
       "3                    141360.0    20793600.0           66612480.0   \n",
       "4                     43350.0     6502500.0           13708800.0   \n",
       "...                       ...           ...                  ...   \n",
       "17285                204120.0     4080400.0           20119200.0   \n",
       "17286                 94900.0     1690000.0            5200000.0   \n",
       "17287                 71400.0     1102500.0           10369800.0   \n",
       "17288                 95000.0     1690000.0           56141800.0   \n",
       "17289                 91770.0     1768900.0            9001440.0   \n",
       "\n",
       "       sqft_above yr_updated    sqft_lot^2  sqft_lot yr_updated  yr_updated^2  \n",
       "0                    72450.0  7.908545e+07             311255.0        1225.0  \n",
       "1                    80520.0  4.529290e+07             296120.0        1936.0  \n",
       "2                    90480.0  1.186574e+08             261432.0         576.0  \n",
       "3                   141360.0  2.133937e+08             452848.0         961.0  \n",
       "4                    43350.0  2.890138e+07              91392.0         289.0  \n",
       "...                      ...           ...                  ...           ...  \n",
       "17285               127260.0  9.920160e+07             627480.0        3969.0  \n",
       "17286                94900.0  1.600000e+07             292000.0        5329.0  \n",
       "17287                71400.0  9.753538e+07             671568.0        4624.0  \n",
       "17288                65000.0  1.865031e+09            2159300.0        2500.0  \n",
       "17289                91770.0  4.580582e+07             466992.0        4761.0  \n",
       "\n",
       "[17290 rows x 35 columns]"
      ],
      "text/html": "<div>\n<style scoped>\n    .dataframe tbody tr th:only-of-type {\n        vertical-align: middle;\n    }\n\n    .dataframe tbody tr th {\n        vertical-align: top;\n    }\n\n    .dataframe thead th {\n        text-align: right;\n    }\n</style>\n<table border=\"1\" class=\"dataframe\">\n  <thead>\n    <tr style=\"text-align: right;\">\n      <th></th>\n      <th>bedrooms</th>\n      <th>bathrooms</th>\n      <th>dist_city</th>\n      <th>sqft_living</th>\n      <th>sqft_above</th>\n      <th>sqft_lot</th>\n      <th>yr_updated</th>\n      <th>bedrooms^2</th>\n      <th>bedrooms bathrooms</th>\n      <th>bedrooms dist_city</th>\n      <th>...</th>\n      <th>sqft_living^2</th>\n      <th>sqft_living sqft_above</th>\n      <th>sqft_living sqft_lot</th>\n      <th>sqft_living yr_updated</th>\n      <th>sqft_above^2</th>\n      <th>sqft_above sqft_lot</th>\n      <th>sqft_above yr_updated</th>\n      <th>sqft_lot^2</th>\n      <th>sqft_lot yr_updated</th>\n      <th>yr_updated^2</th>\n    </tr>\n  </thead>\n  <tbody>\n    <tr>\n      <th>0</th>\n      <td>4.0</td>\n      <td>2.25</td>\n      <td>15.309262</td>\n      <td>2070.0</td>\n      <td>2070.0</td>\n      <td>8893.0</td>\n      <td>35.0</td>\n      <td>16.0</td>\n      <td>9.0</td>\n      <td>61.237048</td>\n      <td>...</td>\n      <td>4284900.0</td>\n      <td>4284900.0</td>\n      <td>18408510.0</td>\n      <td>72450.0</td>\n      <td>4284900.0</td>\n      <td>18408510.0</td>\n      <td>72450.0</td>\n      <td>7.908545e+07</td>\n      <td>311255.0</td>\n      <td>1225.0</td>\n    </tr>\n    <tr>\n      <th>1</th>\n      <td>5.0</td>\n      <td>3.00</td>\n      <td>5.001116</td>\n      <td>2900.0</td>\n      <td>1830.0</td>\n      <td>6730.0</td>\n      <td>44.0</td>\n      <td>25.0</td>\n      <td>15.0</td>\n      <td>25.005578</td>\n      <td>...</td>\n      <td>8410000.0</td>\n      <td>5307000.0</td>\n      <td>19517000.0</td>\n      <td>127600.0</td>\n      <td>3348900.0</td>\n      <td>12315900.0</td>\n      <td>80520.0</td>\n      <td>4.529290e+07</td>\n      <td>296120.0</td>\n      <td>1936.0</td>\n    </tr>\n    <tr>\n      <th>2</th>\n      <td>4.0</td>\n      <td>2.50</td>\n      <td>10.995967</td>\n      <td>3770.0</td>\n      <td>3770.0</td>\n      <td>10893.0</td>\n      <td>24.0</td>\n      <td>16.0</td>\n      <td>10.0</td>\n      <td>43.983866</td>\n      <td>...</td>\n      <td>14212900.0</td>\n      <td>14212900.0</td>\n      <td>41066610.0</td>\n      <td>90480.0</td>\n      <td>14212900.0</td>\n      <td>41066610.0</td>\n      <td>90480.0</td>\n      <td>1.186574e+08</td>\n      <td>261432.0</td>\n      <td>576.0</td>\n    </tr>\n    <tr>\n      <th>3</th>\n      <td>3.0</td>\n      <td>3.50</td>\n      <td>7.863897</td>\n      <td>4560.0</td>\n      <td>4560.0</td>\n      <td>14608.0</td>\n      <td>31.0</td>\n      <td>9.0</td>\n      <td>10.5</td>\n      <td>23.591691</td>\n      <td>...</td>\n      <td>20793600.0</td>\n      <td>20793600.0</td>\n      <td>66612480.0</td>\n      <td>141360.0</td>\n      <td>20793600.0</td>\n      <td>66612480.0</td>\n      <td>141360.0</td>\n      <td>2.133937e+08</td>\n      <td>452848.0</td>\n      <td>961.0</td>\n    </tr>\n    <tr>\n      <th>4</th>\n      <td>3.0</td>\n      <td>2.50</td>\n      <td>12.802871</td>\n      <td>2550.0</td>\n      <td>2550.0</td>\n      <td>5376.0</td>\n      <td>17.0</td>\n      <td>9.0</td>\n      <td>7.5</td>\n      <td>38.408613</td>\n      <td>...</td>\n      <td>6502500.0</td>\n      <td>6502500.0</td>\n      <td>13708800.0</td>\n      <td>43350.0</td>\n      <td>6502500.0</td>\n      <td>13708800.0</td>\n      <td>43350.0</td>\n      <td>2.890138e+07</td>\n      <td>91392.0</td>\n      <td>289.0</td>\n    </tr>\n    <tr>\n      <th>...</th>\n      <td>...</td>\n      <td>...</td>\n      <td>...</td>\n      <td>...</td>\n      <td>...</td>\n      <td>...</td>\n      <td>...</td>\n      <td>...</td>\n      <td>...</td>\n      <td>...</td>\n      <td>...</td>\n      <td>...</td>\n      <td>...</td>\n      <td>...</td>\n      <td>...</td>\n      <td>...</td>\n      <td>...</td>\n      <td>...</td>\n      <td>...</td>\n      <td>...</td>\n      <td>...</td>\n    </tr>\n    <tr>\n      <th>17285</th>\n      <td>5.0</td>\n      <td>2.50</td>\n      <td>11.343927</td>\n      <td>3240.0</td>\n      <td>2020.0</td>\n      <td>9960.0</td>\n      <td>63.0</td>\n      <td>25.0</td>\n      <td>12.5</td>\n      <td>56.719634</td>\n      <td>...</td>\n      <td>10497600.0</td>\n      <td>6544800.0</td>\n      <td>32270400.0</td>\n      <td>204120.0</td>\n      <td>4080400.0</td>\n      <td>20119200.0</td>\n      <td>127260.0</td>\n      <td>9.920160e+07</td>\n      <td>627480.0</td>\n      <td>3969.0</td>\n    </tr>\n    <tr>\n      <th>17286</th>\n      <td>2.0</td>\n      <td>1.75</td>\n      <td>4.390826</td>\n      <td>1300.0</td>\n      <td>1300.0</td>\n      <td>4000.0</td>\n      <td>73.0</td>\n      <td>4.0</td>\n      <td>3.5</td>\n      <td>8.781652</td>\n      <td>...</td>\n      <td>1690000.0</td>\n      <td>1690000.0</td>\n      <td>5200000.0</td>\n      <td>94900.0</td>\n      <td>1690000.0</td>\n      <td>5200000.0</td>\n      <td>94900.0</td>\n      <td>1.600000e+07</td>\n      <td>292000.0</td>\n      <td>5329.0</td>\n    </tr>\n    <tr>\n      <th>17287</th>\n      <td>3.0</td>\n      <td>1.00</td>\n      <td>10.685734</td>\n      <td>1050.0</td>\n      <td>1050.0</td>\n      <td>9876.0</td>\n      <td>68.0</td>\n      <td>9.0</td>\n      <td>3.0</td>\n      <td>32.057202</td>\n      <td>...</td>\n      <td>1102500.0</td>\n      <td>1102500.0</td>\n      <td>10369800.0</td>\n      <td>71400.0</td>\n      <td>1102500.0</td>\n      <td>10369800.0</td>\n      <td>71400.0</td>\n      <td>9.753538e+07</td>\n      <td>671568.0</td>\n      <td>4624.0</td>\n    </tr>\n    <tr>\n      <th>17288</th>\n      <td>3.0</td>\n      <td>1.50</td>\n      <td>21.789572</td>\n      <td>1900.0</td>\n      <td>1300.0</td>\n      <td>43186.0</td>\n      <td>50.0</td>\n      <td>9.0</td>\n      <td>4.5</td>\n      <td>65.368716</td>\n      <td>...</td>\n      <td>3610000.0</td>\n      <td>2470000.0</td>\n      <td>82053400.0</td>\n      <td>95000.0</td>\n      <td>1690000.0</td>\n      <td>56141800.0</td>\n      <td>65000.0</td>\n      <td>1.865031e+09</td>\n      <td>2159300.0</td>\n      <td>2500.0</td>\n    </tr>\n    <tr>\n      <th>17289</th>\n      <td>3.0</td>\n      <td>1.50</td>\n      <td>8.144585</td>\n      <td>1330.0</td>\n      <td>1330.0</td>\n      <td>6768.0</td>\n      <td>69.0</td>\n      <td>9.0</td>\n      <td>4.5</td>\n      <td>24.433754</td>\n      <td>...</td>\n      <td>1768900.0</td>\n      <td>1768900.0</td>\n      <td>9001440.0</td>\n      <td>91770.0</td>\n      <td>1768900.0</td>\n      <td>9001440.0</td>\n      <td>91770.0</td>\n      <td>4.580582e+07</td>\n      <td>466992.0</td>\n      <td>4761.0</td>\n    </tr>\n  </tbody>\n</table>\n<p>17290 rows × 35 columns</p>\n</div>"
     },
     "metadata": {},
     "execution_count": 54
    }
   ],
   "source": [
    "df_poly"
   ]
  },
  {
   "cell_type": "code",
   "execution_count": 55,
   "metadata": {},
   "outputs": [],
   "source": [
    "#\n",
    "kc_df_poly2 = pd.merge(df_poly, kc_df, left_index=True, right_index=True)\n"
   ]
  },
  {
   "cell_type": "code",
   "execution_count": 56,
   "metadata": {},
   "outputs": [
    {
     "output_type": "execute_result",
     "data": {
      "text/plain": [
       "       bedrooms_x  bathrooms_x  dist_city_x  sqft_living_x  sqft_above_x  \\\n",
       "0             4.0         2.25    15.309262         2070.0        2070.0   \n",
       "1             5.0         3.00     5.001116         2900.0        1830.0   \n",
       "2             4.0         2.50    10.995967         3770.0        3770.0   \n",
       "3             3.0         3.50     7.863897         4560.0        4560.0   \n",
       "4             3.0         2.50    12.802871         2550.0        2550.0   \n",
       "...           ...          ...          ...            ...           ...   \n",
       "17285         5.0         2.50    11.343927         3240.0        2020.0   \n",
       "17286         2.0         1.75     4.390826         1300.0        1300.0   \n",
       "17287         3.0         1.00    10.685734         1050.0        1050.0   \n",
       "17288         3.0         1.50    21.789572         1900.0        1300.0   \n",
       "17289         3.0         1.50     8.144585         1330.0        1330.0   \n",
       "\n",
       "       sqft_lot_x  yr_updated_x  bedrooms^2  bedrooms bathrooms  \\\n",
       "0          8893.0          35.0        16.0                 9.0   \n",
       "1          6730.0          44.0        25.0                15.0   \n",
       "2         10893.0          24.0        16.0                10.0   \n",
       "3         14608.0          31.0         9.0                10.5   \n",
       "4          5376.0          17.0         9.0                 7.5   \n",
       "...           ...           ...         ...                 ...   \n",
       "17285      9960.0          63.0        25.0                12.5   \n",
       "17286      4000.0          73.0         4.0                 3.5   \n",
       "17287      9876.0          68.0         9.0                 3.0   \n",
       "17288     43186.0          50.0         9.0                 4.5   \n",
       "17289      6768.0          69.0         9.0                 4.5   \n",
       "\n",
       "       bedrooms dist_city  ...  gra_6.0  gra_7.0  gra_8.0  gra_9.0  gra_10.0  \\\n",
       "0               61.237048  ...        0        0        1        0         0   \n",
       "1               25.005578  ...        0        0        1        0         0   \n",
       "2               43.983866  ...        0        0        0        0         0   \n",
       "3               23.591691  ...        0        0        0        0         0   \n",
       "4               38.408613  ...        0        0        0        1         0   \n",
       "...                   ...  ...      ...      ...      ...      ...       ...   \n",
       "17285           56.719634  ...        0        0        1        0         0   \n",
       "17286            8.781652  ...        0        1        0        0         0   \n",
       "17287           32.057202  ...        0        1        0        0         0   \n",
       "17288           65.368716  ...        0        1        0        0         0   \n",
       "17289           24.433754  ...        0        1        0        0         0   \n",
       "\n",
       "       gra_11.0  gra_12.0  gra_13.0  wat_1.0  sqf_1  \n",
       "0             0         0         0        0      0  \n",
       "1             0         0         0        0      1  \n",
       "2             1         0         0        0      0  \n",
       "3             0         1         0        0      0  \n",
       "4             0         0         0        0      0  \n",
       "...         ...       ...       ...      ...    ...  \n",
       "17285         0         0         0        0      1  \n",
       "17286         0         0         0        0      0  \n",
       "17287         0         0         0        0      0  \n",
       "17288         0         0         0        0      1  \n",
       "17289         0         0         0        0      0  \n",
       "\n",
       "[17290 rows x 138 columns]"
      ],
      "text/html": "<div>\n<style scoped>\n    .dataframe tbody tr th:only-of-type {\n        vertical-align: middle;\n    }\n\n    .dataframe tbody tr th {\n        vertical-align: top;\n    }\n\n    .dataframe thead th {\n        text-align: right;\n    }\n</style>\n<table border=\"1\" class=\"dataframe\">\n  <thead>\n    <tr style=\"text-align: right;\">\n      <th></th>\n      <th>bedrooms_x</th>\n      <th>bathrooms_x</th>\n      <th>dist_city_x</th>\n      <th>sqft_living_x</th>\n      <th>sqft_above_x</th>\n      <th>sqft_lot_x</th>\n      <th>yr_updated_x</th>\n      <th>bedrooms^2</th>\n      <th>bedrooms bathrooms</th>\n      <th>bedrooms dist_city</th>\n      <th>...</th>\n      <th>gra_6.0</th>\n      <th>gra_7.0</th>\n      <th>gra_8.0</th>\n      <th>gra_9.0</th>\n      <th>gra_10.0</th>\n      <th>gra_11.0</th>\n      <th>gra_12.0</th>\n      <th>gra_13.0</th>\n      <th>wat_1.0</th>\n      <th>sqf_1</th>\n    </tr>\n  </thead>\n  <tbody>\n    <tr>\n      <th>0</th>\n      <td>4.0</td>\n      <td>2.25</td>\n      <td>15.309262</td>\n      <td>2070.0</td>\n      <td>2070.0</td>\n      <td>8893.0</td>\n      <td>35.0</td>\n      <td>16.0</td>\n      <td>9.0</td>\n      <td>61.237048</td>\n      <td>...</td>\n      <td>0</td>\n      <td>0</td>\n      <td>1</td>\n      <td>0</td>\n      <td>0</td>\n      <td>0</td>\n      <td>0</td>\n      <td>0</td>\n      <td>0</td>\n      <td>0</td>\n    </tr>\n    <tr>\n      <th>1</th>\n      <td>5.0</td>\n      <td>3.00</td>\n      <td>5.001116</td>\n      <td>2900.0</td>\n      <td>1830.0</td>\n      <td>6730.0</td>\n      <td>44.0</td>\n      <td>25.0</td>\n      <td>15.0</td>\n      <td>25.005578</td>\n      <td>...</td>\n      <td>0</td>\n      <td>0</td>\n      <td>1</td>\n      <td>0</td>\n      <td>0</td>\n      <td>0</td>\n      <td>0</td>\n      <td>0</td>\n      <td>0</td>\n      <td>1</td>\n    </tr>\n    <tr>\n      <th>2</th>\n      <td>4.0</td>\n      <td>2.50</td>\n      <td>10.995967</td>\n      <td>3770.0</td>\n      <td>3770.0</td>\n      <td>10893.0</td>\n      <td>24.0</td>\n      <td>16.0</td>\n      <td>10.0</td>\n      <td>43.983866</td>\n      <td>...</td>\n      <td>0</td>\n      <td>0</td>\n      <td>0</td>\n      <td>0</td>\n      <td>0</td>\n      <td>1</td>\n      <td>0</td>\n      <td>0</td>\n      <td>0</td>\n      <td>0</td>\n    </tr>\n    <tr>\n      <th>3</th>\n      <td>3.0</td>\n      <td>3.50</td>\n      <td>7.863897</td>\n      <td>4560.0</td>\n      <td>4560.0</td>\n      <td>14608.0</td>\n      <td>31.0</td>\n      <td>9.0</td>\n      <td>10.5</td>\n      <td>23.591691</td>\n      <td>...</td>\n      <td>0</td>\n      <td>0</td>\n      <td>0</td>\n      <td>0</td>\n      <td>0</td>\n      <td>0</td>\n      <td>1</td>\n      <td>0</td>\n      <td>0</td>\n      <td>0</td>\n    </tr>\n    <tr>\n      <th>4</th>\n      <td>3.0</td>\n      <td>2.50</td>\n      <td>12.802871</td>\n      <td>2550.0</td>\n      <td>2550.0</td>\n      <td>5376.0</td>\n      <td>17.0</td>\n      <td>9.0</td>\n      <td>7.5</td>\n      <td>38.408613</td>\n      <td>...</td>\n      <td>0</td>\n      <td>0</td>\n      <td>0</td>\n      <td>1</td>\n      <td>0</td>\n      <td>0</td>\n      <td>0</td>\n      <td>0</td>\n      <td>0</td>\n      <td>0</td>\n    </tr>\n    <tr>\n      <th>...</th>\n      <td>...</td>\n      <td>...</td>\n      <td>...</td>\n      <td>...</td>\n      <td>...</td>\n      <td>...</td>\n      <td>...</td>\n      <td>...</td>\n      <td>...</td>\n      <td>...</td>\n      <td>...</td>\n      <td>...</td>\n      <td>...</td>\n      <td>...</td>\n      <td>...</td>\n      <td>...</td>\n      <td>...</td>\n      <td>...</td>\n      <td>...</td>\n      <td>...</td>\n      <td>...</td>\n    </tr>\n    <tr>\n      <th>17285</th>\n      <td>5.0</td>\n      <td>2.50</td>\n      <td>11.343927</td>\n      <td>3240.0</td>\n      <td>2020.0</td>\n      <td>9960.0</td>\n      <td>63.0</td>\n      <td>25.0</td>\n      <td>12.5</td>\n      <td>56.719634</td>\n      <td>...</td>\n      <td>0</td>\n      <td>0</td>\n      <td>1</td>\n      <td>0</td>\n      <td>0</td>\n      <td>0</td>\n      <td>0</td>\n      <td>0</td>\n      <td>0</td>\n      <td>1</td>\n    </tr>\n    <tr>\n      <th>17286</th>\n      <td>2.0</td>\n      <td>1.75</td>\n      <td>4.390826</td>\n      <td>1300.0</td>\n      <td>1300.0</td>\n      <td>4000.0</td>\n      <td>73.0</td>\n      <td>4.0</td>\n      <td>3.5</td>\n      <td>8.781652</td>\n      <td>...</td>\n      <td>0</td>\n      <td>1</td>\n      <td>0</td>\n      <td>0</td>\n      <td>0</td>\n      <td>0</td>\n      <td>0</td>\n      <td>0</td>\n      <td>0</td>\n      <td>0</td>\n    </tr>\n    <tr>\n      <th>17287</th>\n      <td>3.0</td>\n      <td>1.00</td>\n      <td>10.685734</td>\n      <td>1050.0</td>\n      <td>1050.0</td>\n      <td>9876.0</td>\n      <td>68.0</td>\n      <td>9.0</td>\n      <td>3.0</td>\n      <td>32.057202</td>\n      <td>...</td>\n      <td>0</td>\n      <td>1</td>\n      <td>0</td>\n      <td>0</td>\n      <td>0</td>\n      <td>0</td>\n      <td>0</td>\n      <td>0</td>\n      <td>0</td>\n      <td>0</td>\n    </tr>\n    <tr>\n      <th>17288</th>\n      <td>3.0</td>\n      <td>1.50</td>\n      <td>21.789572</td>\n      <td>1900.0</td>\n      <td>1300.0</td>\n      <td>43186.0</td>\n      <td>50.0</td>\n      <td>9.0</td>\n      <td>4.5</td>\n      <td>65.368716</td>\n      <td>...</td>\n      <td>0</td>\n      <td>1</td>\n      <td>0</td>\n      <td>0</td>\n      <td>0</td>\n      <td>0</td>\n      <td>0</td>\n      <td>0</td>\n      <td>0</td>\n      <td>1</td>\n    </tr>\n    <tr>\n      <th>17289</th>\n      <td>3.0</td>\n      <td>1.50</td>\n      <td>8.144585</td>\n      <td>1330.0</td>\n      <td>1330.0</td>\n      <td>6768.0</td>\n      <td>69.0</td>\n      <td>9.0</td>\n      <td>4.5</td>\n      <td>24.433754</td>\n      <td>...</td>\n      <td>0</td>\n      <td>1</td>\n      <td>0</td>\n      <td>0</td>\n      <td>0</td>\n      <td>0</td>\n      <td>0</td>\n      <td>0</td>\n      <td>0</td>\n      <td>0</td>\n    </tr>\n  </tbody>\n</table>\n<p>17290 rows × 138 columns</p>\n</div>"
     },
     "metadata": {},
     "execution_count": 56
    }
   ],
   "source": [
    "kc_df_poly2"
   ]
  },
  {
   "source": [
    "summary_features1 = list(kc_df_poly2.columns.drop('price'))"
   ],
   "cell_type": "code",
   "metadata": {},
   "execution_count": 57,
   "outputs": []
  },
  {
   "cell_type": "code",
   "execution_count": 36,
   "metadata": {},
   "outputs": [
    {
     "output_type": "execute_result",
     "data": {
      "text/plain": [
       "['bedrooms_x',\n",
       " 'bathrooms_x',\n",
       " 'dist_city_x',\n",
       " 'sqft_living_x',\n",
       " 'sqft_lot_x',\n",
       " 'yr_updated_x',\n",
       " 'bedrooms^2',\n",
       " 'bedrooms bathrooms',\n",
       " 'bedrooms dist_city',\n",
       " 'bedrooms sqft_living',\n",
       " 'bedrooms sqft_lot',\n",
       " 'bedrooms yr_updated',\n",
       " 'bathrooms^2',\n",
       " 'bathrooms dist_city',\n",
       " 'bathrooms sqft_living',\n",
       " 'bathrooms sqft_lot',\n",
       " 'bathrooms yr_updated',\n",
       " 'dist_city^2',\n",
       " 'dist_city sqft_living',\n",
       " 'dist_city sqft_lot',\n",
       " 'dist_city yr_updated',\n",
       " 'sqft_living^2',\n",
       " 'sqft_living sqft_lot',\n",
       " 'sqft_living yr_updated',\n",
       " 'sqft_lot^2',\n",
       " 'sqft_lot yr_updated',\n",
       " 'yr_updated^2',\n",
       " 'bedrooms_y',\n",
       " 'bathrooms_y',\n",
       " 'sqft_living_y',\n",
       " 'sqft_lot_y',\n",
       " 'yr_updated_y',\n",
       " 'dist_city_y',\n",
       " 'zip_98002.0',\n",
       " 'zip_98003.0',\n",
       " 'zip_98004.0',\n",
       " 'zip_98005.0',\n",
       " 'zip_98006.0',\n",
       " 'zip_98007.0',\n",
       " 'zip_98008.0',\n",
       " 'zip_98010.0',\n",
       " 'zip_98011.0',\n",
       " 'zip_98014.0',\n",
       " 'zip_98019.0',\n",
       " 'zip_98022.0',\n",
       " 'zip_98023.0',\n",
       " 'zip_98024.0',\n",
       " 'zip_98027.0',\n",
       " 'zip_98028.0',\n",
       " 'zip_98029.0',\n",
       " 'zip_98030.0',\n",
       " 'zip_98031.0',\n",
       " 'zip_98032.0',\n",
       " 'zip_98033.0',\n",
       " 'zip_98034.0',\n",
       " 'zip_98038.0',\n",
       " 'zip_98039.0',\n",
       " 'zip_98040.0',\n",
       " 'zip_98042.0',\n",
       " 'zip_98045.0',\n",
       " 'zip_98052.0',\n",
       " 'zip_98053.0',\n",
       " 'zip_98055.0',\n",
       " 'zip_98056.0',\n",
       " 'zip_98058.0',\n",
       " 'zip_98059.0',\n",
       " 'zip_98065.0',\n",
       " 'zip_98070.0',\n",
       " 'zip_98072.0',\n",
       " 'zip_98074.0',\n",
       " 'zip_98075.0',\n",
       " 'zip_98077.0',\n",
       " 'zip_98092.0',\n",
       " 'zip_98102.0',\n",
       " 'zip_98103.0',\n",
       " 'zip_98105.0',\n",
       " 'zip_98106.0',\n",
       " 'zip_98107.0',\n",
       " 'zip_98108.0',\n",
       " 'zip_98109.0',\n",
       " 'zip_98112.0',\n",
       " 'zip_98115.0',\n",
       " 'zip_98116.0',\n",
       " 'zip_98117.0',\n",
       " 'zip_98118.0',\n",
       " 'zip_98119.0',\n",
       " 'zip_98122.0',\n",
       " 'zip_98125.0',\n",
       " 'zip_98126.0',\n",
       " 'zip_98133.0',\n",
       " 'zip_98136.0',\n",
       " 'zip_98144.0',\n",
       " 'zip_98146.0',\n",
       " 'zip_98148.0',\n",
       " 'zip_98155.0',\n",
       " 'zip_98166.0',\n",
       " 'zip_98168.0',\n",
       " 'zip_98177.0',\n",
       " 'zip_98178.0',\n",
       " 'zip_98188.0',\n",
       " 'zip_98198.0',\n",
       " 'zip_98199.0',\n",
       " 'con_2.0',\n",
       " 'con_3.0',\n",
       " 'con_4.0',\n",
       " 'con_5.0',\n",
       " 'vie_1.0',\n",
       " 'vie_2.0',\n",
       " 'vie_3.0',\n",
       " 'vie_4.0',\n",
       " 'flo_1.5',\n",
       " 'flo_2.0',\n",
       " 'flo_2.5',\n",
       " 'flo_3.0',\n",
       " 'flo_3.5',\n",
       " 'gra_3.0',\n",
       " 'gra_4.0',\n",
       " 'gra_5.0',\n",
       " 'gra_6.0',\n",
       " 'gra_7.0',\n",
       " 'gra_8.0',\n",
       " 'gra_9.0',\n",
       " 'gra_10.0',\n",
       " 'gra_11.0',\n",
       " 'gra_12.0',\n",
       " 'gra_13.0',\n",
       " 'wat_1.0',\n",
       " 'sqf_1']"
      ]
     },
     "metadata": {},
     "execution_count": 36
    }
   ],
   "source": [
    "summary_features1"
   ]
  },
  {
   "cell_type": "code",
   "execution_count": 86,
   "metadata": {},
   "outputs": [
    {
     "output_type": "error",
     "ename": "SyntaxError",
     "evalue": "invalid syntax (<ipython-input-86-3c567e99f885>, line 1)",
     "traceback": [
      "\u001b[1;36m  File \u001b[1;32m\"<ipython-input-86-3c567e99f885>\"\u001b[1;36m, line \u001b[1;32m1\u001b[0m\n\u001b[1;33m    (kc_df_poly2.columns.drop('price'), inplace = True)\u001b[0m\n\u001b[1;37m                                                ^\u001b[0m\n\u001b[1;31mSyntaxError\u001b[0m\u001b[1;31m:\u001b[0m invalid syntax\n"
     ]
    }
   ],
   "source": [
    "(kc_df_poly2.columns.drop('price'), inplace = True)"
   ]
  },
  {
   "cell_type": "markdown",
   "metadata": {},
   "source": [
    "### 4.5) Create an interaction feature between a binary variable (dummy variable) and a continuous variable."
   ]
  },
  {
   "cell_type": "markdown",
   "metadata": {},
   "source": [
    "## Step 5: Train-Test Split\n",
    "\n",
    "If you plan on doing any scaling of your data, make sure it is done at the appropriate time. "
   ]
  },
  {
   "cell_type": "code",
   "execution_count": 40,
   "metadata": {},
   "outputs": [],
   "source": [
    "def f_test_selection(df, target, k):\n",
    "    \"\"\"\n",
    "    k - Select features according to the k highest scores\n",
    "    \"\"\"\n",
    "    X_train, X_test, y_train, y_test = train_test_split(df, target, random_state=9, test_size=0.2)\n",
    "    scaler = StandardScaler()\n",
    "    # fit the scaler to the training data\n",
    "    scaler.fit(X_train)\n",
    "    #transform the training data\n",
    "    scaled_data = scaler.transform(X_train)\n",
    "    X_train_scaled = pd.DataFrame(data=scaled_data, columns=df.columns, index=X_train.index)\n",
    "    #transform the test data\n",
    "    scaled_test_data = scaler.transform(X_test)\n",
    "    #create dataframe\n",
    "    X_test_scaled = pd.DataFrame(data=scaled_test_data, columns=df.columns, index=X_test.index)\n",
    "    selector = SelectKBest(f_regression, k= k)\n",
    "    selector.fit(X_train_scaled, y_train)\n",
    "    selected_columns = X_train_scaled.columns[selector.get_support()]\n",
    "    removed_columns = X_train_scaled.columns[~selector.get_support()]\n",
    "    return selected_columns"
   ]
  },
  {
   "cell_type": "code",
   "execution_count": 55,
   "metadata": {},
   "outputs": [],
   "source": [
    "best_f = f_test_selection(kc_df_poly2, target, 120)"
   ]
  },
  {
   "cell_type": "code",
   "execution_count": 56,
   "metadata": {},
   "outputs": [
    {
     "output_type": "execute_result",
     "data": {
      "text/plain": [
       "Index(['bedrooms_x', 'bathrooms_x', 'dist_city_x', 'sqft_living_x',\n",
       "       'sqft_lot_x', 'yr_updated_x', 'bedrooms^2', 'bedrooms bathrooms',\n",
       "       'bedrooms dist_city', 'bedrooms sqft_living', 'bedrooms sqft_lot',\n",
       "       'bathrooms^2', 'bathrooms sqft_living', 'bathrooms sqft_lot',\n",
       "       'bathrooms yr_updated', 'dist_city^2', 'dist_city sqft_living',\n",
       "       'dist_city yr_updated', 'sqft_living^2', 'sqft_living sqft_lot',\n",
       "       'sqft_living yr_updated', 'price', 'bedrooms_y', 'bathrooms_y',\n",
       "       'sqft_living_y', 'sqft_lot_y', 'yr_updated_y', 'dist_city_y',\n",
       "       'zip_98002.0', 'zip_98003.0', 'zip_98004.0', 'zip_98006.0',\n",
       "       'zip_98022.0', 'zip_98023.0', 'zip_98030.0', 'zip_98031.0',\n",
       "       'zip_98033.0', 'zip_98038.0', 'zip_98039.0', 'zip_98040.0',\n",
       "       'zip_98042.0', 'zip_98055.0', 'zip_98058.0', 'zip_98075.0',\n",
       "       'zip_98092.0', 'zip_98102.0', 'zip_98105.0', 'zip_98106.0',\n",
       "       'zip_98112.0', 'zip_98119.0', 'zip_98168.0', 'zip_98178.0',\n",
       "       'zip_98198.0', 'zip_98199.0', 'vie_1.0', 'vie_2.0', 'vie_3.0',\n",
       "       'vie_4.0', 'flo_2.0', 'flo_2.5', 'gra_5.0', 'gra_6.0', 'gra_7.0',\n",
       "       'gra_9.0', 'gra_10.0', 'gra_11.0', 'gra_12.0', 'gra_13.0', 'wat_1.0',\n",
       "       'sqf_1'],\n",
       "      dtype='object')"
      ]
     },
     "metadata": {},
     "execution_count": 56
    }
   ],
   "source": [
    "best_f"
   ]
  },
  {
   "cell_type": "code",
   "execution_count": 59,
   "metadata": {},
   "outputs": [],
   "source": [
    "eff_feat2 = ['bedrooms_x', 'bathrooms_x', 'dist_city_x', 'sqft_living_x',\n",
    "       'sqft_lot_x', 'yr_updated_x', 'bedrooms^2', 'bedrooms bathrooms',\n",
    "       'bedrooms dist_city', 'bedrooms sqft_living', 'bedrooms sqft_lot',\n",
    "       'bathrooms^2', 'bathrooms sqft_living', 'bathrooms sqft_lot',\n",
    "       'bathrooms yr_updated', 'dist_city^2', 'dist_city sqft_living',\n",
    "       'dist_city yr_updated', 'sqft_living^2', 'sqft_living sqft_lot',\n",
    "       'sqft_living yr_updated', 'bedrooms_y', 'bathrooms_y',\n",
    "       'sqft_living_y', 'sqft_lot_y', 'yr_updated_y', 'dist_city_y',\n",
    "       'zip_98002.0', 'zip_98003.0', 'zip_98004.0', 'zip_98006.0',\n",
    "       'zip_98022.0', 'zip_98023.0', 'zip_98030.0', 'zip_98031.0',\n",
    "       'zip_98033.0', 'zip_98038.0', 'zip_98039.0', 'zip_98040.0',\n",
    "       'zip_98042.0', 'zip_98055.0', 'zip_98058.0', 'zip_98075.0',\n",
    "       'zip_98092.0', 'zip_98102.0', 'zip_98105.0', 'zip_98106.0',\n",
    "       'zip_98112.0', 'zip_98119.0', 'zip_98168.0', 'zip_98178.0',\n",
    "       'zip_98198.0', 'zip_98199.0', 'vie_1.0', 'vie_2.0', 'vie_3.0',\n",
    "       'vie_4.0', 'flo_2.0', 'flo_2.5', 'gra_5.0', 'gra_6.0', 'gra_7.0',\n",
    "       'gra_9.0', 'gra_10.0', 'gra_11.0', 'gra_12.0', 'gra_13.0', 'wat_1.0',\n",
    "       'sqf_1']"
   ]
  },
  {
   "cell_type": "code",
   "execution_count": 52,
   "metadata": {},
   "outputs": [],
   "source": [
    "eff_feat = ['bedrooms_x', 'bathrooms_x', 'dist_city_x', 'sqft_living_x',\n",
    "       'sqft_lot_x', 'yr_updated_x', 'bedrooms^2', 'bedrooms bathrooms',\n",
    "       'bedrooms dist_city', 'bedrooms sqft_living', 'bedrooms sqft_lot',\n",
    "       'bedrooms yr_updated', 'bathrooms^2', 'bathrooms sqft_living',\n",
    "       'bathrooms sqft_lot', 'bathrooms yr_updated', 'dist_city^2',\n",
    "       'dist_city sqft_living', 'dist_city sqft_lot', 'dist_city yr_updated',\n",
    "       'sqft_living^2', 'sqft_living sqft_lot', 'sqft_living yr_updated',\n",
    "       'sqft_lot^2', 'yr_updated^2', 'bedrooms_y', 'bathrooms_y',\n",
    "       'sqft_living_y', 'sqft_lot_y', 'yr_updated_y', 'dist_city_y',\n",
    "       'zip_98002.0', 'zip_98003.0', 'zip_98004.0', 'zip_98005.0',\n",
    "       'zip_98006.0', 'zip_98008.0', 'zip_98019.0', 'zip_98022.0',\n",
    "       'zip_98023.0', 'zip_98027.0', 'zip_98030.0', 'zip_98031.0',\n",
    "       'zip_98032.0', 'zip_98033.0', 'zip_98038.0', 'zip_98039.0',\n",
    "       'zip_98040.0', 'zip_98042.0', 'zip_98045.0', 'zip_98052.0',\n",
    "       'zip_98053.0', 'zip_98055.0', 'zip_98056.0', 'zip_98058.0',\n",
    "       'zip_98074.0', 'zip_98075.0', 'zip_98077.0', 'zip_98092.0',\n",
    "       'zip_98102.0', 'zip_98105.0', 'zip_98106.0', 'zip_98108.0',\n",
    "       'zip_98109.0', 'zip_98112.0', 'zip_98115.0', 'zip_98118.0',\n",
    "       'zip_98119.0', 'zip_98126.0', 'zip_98133.0', 'zip_98146.0',\n",
    "       'zip_98148.0', 'zip_98155.0', 'zip_98168.0', 'zip_98177.0',\n",
    "       'zip_98178.0', 'zip_98188.0', 'zip_98198.0', 'zip_98199.0', 'con_2.0',\n",
    "       'con_4.0', 'con_5.0', 'vie_1.0', 'vie_2.0', 'vie_3.0', 'vie_4.0',\n",
    "       'flo_2.0', 'flo_2.5', 'gra_4.0', 'gra_5.0', 'gra_6.0', 'gra_7.0',\n",
    "       'gra_9.0', 'gra_10.0', 'gra_11.0', 'gra_12.0', 'gra_13.0', 'wat_1.0',\n",
    "       'sqf_1']"
   ]
  },
  {
   "cell_type": "code",
   "execution_count": 23,
   "metadata": {},
   "outputs": [
    {
     "output_type": "error",
     "ename": "NameError",
     "evalue": "name 'model_test' is not defined",
     "traceback": [
      "\u001b[1;31m---------------------------------------------------------------------------\u001b[0m",
      "\u001b[1;31mNameError\u001b[0m                                 Traceback (most recent call last)",
      "\u001b[1;32m<ipython-input-23-8d85363ead53>\u001b[0m in \u001b[0;36m<module>\u001b[1;34m\u001b[0m\n\u001b[1;32m----> 1\u001b[1;33m \u001b[0mmodel_test\u001b[0m\u001b[1;33m(\u001b[0m\u001b[0mkc_df\u001b[0m\u001b[1;33m,\u001b[0m \u001b[0msummary_features\u001b[0m\u001b[1;33m,\u001b[0m \u001b[1;34m'price'\u001b[0m\u001b[1;33m)\u001b[0m\u001b[1;33m\u001b[0m\u001b[1;33m\u001b[0m\u001b[0m\n\u001b[0m",
      "\u001b[1;31mNameError\u001b[0m: name 'model_test' is not defined"
     ]
    }
   ],
   "source": [
    "model_test(kc_df, summary_features, 'price')"
   ]
  },
  {
   "cell_type": "code",
   "execution_count": 60,
   "metadata": {},
   "outputs": [
    {
     "output_type": "stream",
     "name": "stdout",
     "text": [
      "Training:  142930 vs. Testing:  163799\n"
     ]
    }
   ],
   "source": [
    "model_test(kc_df_poly2, eff_feat2, 'price')"
   ]
  },
  {
   "cell_type": "markdown",
   "metadata": {},
   "source": [
    "### 5.1) Perform a train-test split of the data."
   ]
  },
  {
   "cell_type": "code",
   "execution_count": 48,
   "metadata": {},
   "outputs": [],
   "source": [
    "target = kc_df['price']"
   ]
  },
  {
   "cell_type": "code",
   "execution_count": 58,
   "metadata": {},
   "outputs": [],
   "source": [
    "def model_test(df, features, target):\n",
    "    target = df[target]\n",
    "    df_feature = df[features]\n",
    "    x_train, x_test, y_train, y_test = train_test_split(df_feature, \n",
    "    target, random_state = 34, test_size = 0.2)\n",
    "    lm = linear_model.LinearRegression()\n",
    "    lm = lm.fit(x_train, y_train)\n",
    "\n",
    "    y_train_pred = lm.predict(x_train)\n",
    "    train_rmse = np.sqrt(metrics.mean_squared_error(y_train, y_train_pred))\n",
    "\n",
    "    y_test_pred = lm.predict(x_test)\n",
    "    test_rmse = np.sqrt(metrics.mean_squared_error(y_test, y_test_pred))\n",
    "\n",
    "    print('Training: ', int(train_rmse), 'vs. Testing: ', int(test_rmse))\n"
   ]
  },
  {
   "source": [
    "Model Test with Dummy Variables"
   ],
   "cell_type": "markdown",
   "metadata": {}
  },
  {
   "cell_type": "code",
   "execution_count": 25,
   "metadata": {},
   "outputs": [
    {
     "output_type": "stream",
     "name": "stdout",
     "text": [
      "Training:  150152 vs. Testing:  156737\n"
     ]
    }
   ],
   "source": [
    "model_test(kc_df, summary_features, 'price')"
   ]
  },
  {
   "source": [
    "Model Test with Dummy Variables & Polynomials "
   ],
   "cell_type": "markdown",
   "metadata": {}
  },
  {
   "cell_type": "code",
   "execution_count": 59,
   "metadata": {},
   "outputs": [
    {
     "output_type": "stream",
     "name": "stdout",
     "text": [
      "Training:  130248 vs. Testing:  150555\n"
     ]
    }
   ],
   "source": [
    "model_test(kc_df_poly2, summary_features1, 'price')"
   ]
  },
  {
   "cell_type": "code",
   "execution_count": null,
   "metadata": {},
   "outputs": [],
   "source": []
  },
  {
   "source": [
    "Model Test with Dummy Variables & Polynomials with the 'best' 100 features"
   ],
   "cell_type": "markdown",
   "metadata": {}
  },
  {
   "cell_type": "code",
   "execution_count": 100,
   "metadata": {},
   "outputs": [
    {
     "output_type": "stream",
     "name": "stdout",
     "text": [
      "Training:  143934 vs. Testing:  139763\n"
     ]
    }
   ],
   "source": [
    "model_test(kc_df_poly2, best_features, 'price')"
   ]
  },
  {
   "source": [
    "## kc_df Train Test Split"
   ],
   "cell_type": "markdown",
   "metadata": {}
  },
  {
   "source": [
    "#your code here \n",
    "#improt train_test_split from sklearn package\n",
    "from sklearn.model_selection import train_test_split\n",
    "#call train_test_split on the data and capture the results\n",
    "X_train, X_test, y_train, y_test = train_test_split(kc_df_poly2[summary_features1], kc_df['price'], random_state=34,test_size=0.2)\n",
    "#showing number of summary features\n",
    "#check the shape of the results\n",
    "print(\"Training set - Features: \", X_train.shape, \"Target: \", y_train.shape)\n",
    "print(\"Training set - Features: \", X_test.shape, \"Target: \",y_test.shape)"
   ],
   "cell_type": "code",
   "metadata": {},
   "execution_count": 46,
   "outputs": [
    {
     "output_type": "stream",
     "name": "stdout",
     "text": [
      "Training set - Features:  (13832, 128) Target:  (13832,)\nTraining set - Features:  (3458, 128) Target:  (3458,)\n"
     ]
    }
   ]
  },
  {
   "source": [
    "from sklearn import linear_model\n",
    "\n",
    "#instantiate a linear regression object\n",
    "lm = linear_model.LinearRegression()\n",
    "\n",
    "#fit the linear regression to the data\n",
    "lm = lm.fit(X_train, y_train)\n",
    "\n",
    "\n",
    "#print the y intercept of our model\n",
    "print(lm.intercept_)\n",
    "#coefs for each of the summary features\n",
    "print(lm.coef_)"
   ],
   "cell_type": "code",
   "metadata": {},
   "execution_count": 49,
   "outputs": [
    {
     "output_type": "stream",
     "name": "stdout",
     "text": [
      "-23710.128205479356\n[ 1.69655366e+04 -2.25406327e+04 -2.09018788e+03  1.28646484e+02\n  9.59046608e-01 -3.89261997e+02 -3.00048246e+03  3.25335172e+03\n  1.91363625e+03 -1.88498191e+01  1.48659822e-01  1.25834214e+02\n  1.92992783e+02  7.00944813e+02  1.35443667e+01  1.80885150e-02\n  1.27429999e+02  2.57952405e+02 -1.25812593e+01 -1.24411675e-02\n -6.31478885e+01  1.96977976e-02 -3.85625920e-04 -4.84306103e-01\n -2.28119461e-07 -1.05695322e-02  1.19429316e+01  2.16846915e+03\n -2.25408169e+04  1.28652021e+02  9.59021120e-01 -3.89261861e+02\n -2.09019150e+03 -2.20824454e+03 -1.77345141e+03  5.06400026e+05\n  1.01994825e+05  9.34813571e+04  9.57601268e+04  1.21229546e+05\n  1.16159305e+05  9.62944915e+03  7.07794144e+04  7.36072801e+04\n  6.69997773e+04 -1.01456191e+04  1.63004856e+05  1.13005148e+05\n -1.77565495e+04  1.61538063e+05 -2.48345542e+04 -4.36228573e+04\n -4.57341675e+04  1.53228605e+05  3.78112221e+04  5.79640881e+04\n  7.90253489e+05  2.52074457e+05 -5.40588000e+03  1.80937856e+05\n  1.09450830e+05  1.37797896e+05 -6.30149364e+04 -6.02627045e+04\n -3.74969800e+04 -3.12507664e+04  1.83001993e+05 -1.18140324e+05\n  6.59627887e+04  1.04046118e+05  1.38885523e+05  8.10852526e+04\n  2.08367758e+04  1.34031019e+05  8.67001471e+04  1.95501920e+05\n -9.52636493e+04  9.50275231e+04 -1.21068626e+05  1.50433080e+05\n  2.94947534e+05  9.15848632e+04  2.25856974e+04  8.06669628e+04\n -5.00788325e+04  1.76814933e+05  3.47679005e+04 -5.69756780e+02\n -4.48388937e+04 -1.76008710e+04  3.55356451e+04 -5.13727492e+03\n -8.56411505e+04 -5.78885648e+04 -9.63795216e+03 -5.70656345e+04\n -1.06923752e+05  3.09702617e+04 -1.23366606e+05 -8.01423279e+04\n -6.20549795e+04  7.29140234e+04  1.23675437e+05  1.34712250e+05\n  1.62074563e+05  1.99895059e+05  6.97252602e+04  7.09396541e+04\n  1.26994574e+05  2.49885721e+05 -1.11136813e+04 -2.56796452e+04\n  2.11693161e+04 -8.96065992e+04 -7.27392815e+04 -2.88332355e+04\n  5.86653282e+04  2.02674872e+04  4.09452382e+04  6.34519270e+04\n  1.14441488e+05  1.90377408e+05  2.97001682e+05  4.53227747e+05\n  7.26697651e+05  1.14572139e+06  5.67932790e+05 -3.29601716e+04]\n"
     ]
    }
   ]
  },
  {
   "source": [
    "print (\"R^2 Score:\", lm.score(X_train, y_train))"
   ],
   "cell_type": "code",
   "metadata": {},
   "execution_count": 50,
   "outputs": [
    {
     "output_type": "stream",
     "name": "stdout",
     "text": [
      "R^2 Score: 0.8676553542263472\n"
     ]
    }
   ]
  },
  {
   "cell_type": "code",
   "execution_count": 51,
   "metadata": {},
   "outputs": [],
   "source": [
    "y_train_pred = lm.predict(X_train)"
   ]
  },
  {
   "source": [
    "from sklearn import metrics\n",
    "\n",
    "\n",
    "train_rmse = np.sqrt(metrics.mean_squared_error(y_train, y_train_pred))\n",
    "\n",
    "\n",
    "print('Root Mean Squared Error:' , train_rmse)"
   ],
   "cell_type": "code",
   "metadata": {},
   "execution_count": 52,
   "outputs": [
    {
     "output_type": "stream",
     "name": "stdout",
     "text": [
      "Root Mean Squared Error: 135797.66590476874\n"
     ]
    }
   ]
  },
  {
   "cell_type": "code",
   "execution_count": 53,
   "metadata": {},
   "outputs": [
    {
     "output_type": "stream",
     "name": "stdout",
     "text": [
      "Z-Score of Root Mean Squared Error: 0.36375773436359166\n"
     ]
    }
   ],
   "source": [
    "price_std = target.std()\n",
    "\n",
    "\n",
    "print('Z-Score of Root Mean Squared Error:' , train_rmse/price_std)"
   ]
  },
  {
   "cell_type": "code",
   "execution_count": 54,
   "metadata": {},
   "outputs": [],
   "source": [
    "y_pred = lm.predict(X_test)"
   ]
  },
  {
   "cell_type": "code",
   "execution_count": 55,
   "metadata": {},
   "outputs": [
    {
     "output_type": "stream",
     "name": "stdout",
     "text": [
      "Score: 0.8765857644799833\n"
     ]
    }
   ],
   "source": [
    "print (\"Score:\", lm.score(X_test, y_test))"
   ]
  },
  {
   "cell_type": "code",
   "execution_count": 56,
   "metadata": {},
   "outputs": [
    {
     "output_type": "stream",
     "name": "stdout",
     "text": [
      "Mean Absolute Error:79952.7721028022\nMean Squared Error:17207682382.762886\nRoot Mean Squared Error:131178.0560260095\n"
     ]
    }
   ],
   "source": [
    "price_std = target.std()\n",
    "test_mae = metrics.mean_absolute_error(y_test, y_pred)\n",
    "test_rmse = np.sqrt(metrics.mean_squared_error(y_test, y_pred))\n",
    "\n",
    "\n",
    "print('Mean Absolute Error:' + str(metrics.mean_absolute_error(y_test, y_pred)))\n",
    "print('Mean Squared Error:' + str(metrics.mean_squared_error(y_test, y_pred)))\n",
    "print('Root Mean Squared Error:' + str(np.sqrt(metrics.mean_squared_error(y_test, y_pred))))"
   ]
  },
  {
   "cell_type": "code",
   "execution_count": 57,
   "metadata": {},
   "outputs": [
    {
     "output_type": "stream",
     "name": "stdout",
     "text": [
      "Mean Absolute Error  Z: 0.21416744568054166\nRoot Mean Squared Error Z: 0.35138330353707387\n"
     ]
    }
   ],
   "source": [
    "print('Mean Absolute Error  Z:', test_mae/price_std )\n",
    "print('Root Mean Squared Error Z:' , test_rmse/price_std)"
   ]
  },
  {
   "cell_type": "code",
   "execution_count": 58,
   "metadata": {},
   "outputs": [
    {
     "output_type": "stream",
     "name": "stdout",
     "text": [
      "Training:  135797 vs. Testing:  131178\n"
     ]
    }
   ],
   "source": [
    "print('Training: ', int(train_rmse), \"vs. Testing: \", int(test_rmse))"
   ]
  },
  {
   "cell_type": "markdown",
   "metadata": {},
   "source": [
    "### 5.2) Fit your scaler to training the data."
   ]
  },
  {
   "cell_type": "code",
   "execution_count": 59,
   "metadata": {},
   "outputs": [],
   "source": [
    "#your code here "
   ]
  },
  {
   "cell_type": "code",
   "execution_count": 60,
   "metadata": {},
   "outputs": [
    {
     "output_type": "execute_result",
     "data": {
      "text/plain": [
       "Index(['bedrooms_x', 'bathrooms_x', 'dist_city_x', 'sqft_living_x',\n",
       "       'sqft_lot_x', 'yr_updated_x', 'bedrooms^2', 'bedrooms bathrooms',\n",
       "       'bedrooms dist_city', 'bedrooms sqft_living',\n",
       "       ...\n",
       "       'gra_6.0', 'gra_7.0', 'gra_8.0', 'gra_9.0', 'gra_10.0', 'gra_11.0',\n",
       "       'gra_12.0', 'gra_13.0', 'wat_1.0', 'sqf_1'],\n",
       "      dtype='object', length=128)"
      ]
     },
     "metadata": {},
     "execution_count": 60
    }
   ],
   "source": [
    "# ASK SEAN ABOUT NUMBER\n",
    "X_train.select_dtypes(include=['number']).columns"
   ]
  },
  {
   "cell_type": "code",
   "execution_count": null,
   "metadata": {},
   "outputs": [],
   "source": []
  },
  {
   "cell_type": "code",
   "execution_count": 61,
   "metadata": {},
   "outputs": [],
   "source": [
    "#Features we want to scale (continuous). We do not want to scale dummy (why?) and categorical\n",
    " \n",
    "scaled_features = cont_var"
   ]
  },
  {
   "cell_type": "code",
   "execution_count": 62,
   "metadata": {},
   "outputs": [],
   "source": [
    "#Separating our non-scaled data\n",
    "\n",
    "not_scaled = [x for x in X_train.columns if x not in cont_var]"
   ]
  },
  {
   "cell_type": "code",
   "execution_count": 63,
   "metadata": {},
   "outputs": [],
   "source": [
    "scaler = StandardScaler()\n",
    "\n",
    "scaler.fit(kc_df_poly2)\n",
    "\n",
    "scaled_data = scaler.transform(kc_df_poly2)"
   ]
  },
  {
   "cell_type": "code",
   "execution_count": 57,
   "metadata": {},
   "outputs": [],
   "source": [
    "# setting scaler equal to our function\n",
    "# scaler = StandardScaler()\n",
    "# # fit the scaler to the training data\n",
    "# scaler.fit(X_train[s_features])\n",
    "# #transform the training data\n",
    "# scaled_data = scaler.transform(X_train)"
   ]
  },
  {
   "cell_type": "code",
   "execution_count": 64,
   "metadata": {},
   "outputs": [],
   "source": [
    "# #create dataframe\n",
    "kc_df_poly2_scaled = pd.DataFrame(data=scaled_data, columns=kc_df_poly2.columns, index=kc_df_poly2.index)"
   ]
  },
  {
   "cell_type": "code",
   "execution_count": null,
   "metadata": {},
   "outputs": [],
   "source": [
    "# X_train = pd.concat([X_train_scaled, X_train[not_scaled]], axis=1)"
   ]
  },
  {
   "source": [
    "kc_df_poly2['price']"
   ],
   "cell_type": "code",
   "metadata": {},
   "execution_count": 81,
   "outputs": [
    {
     "output_type": "execute_result",
     "data": {
      "text/plain": [
       "0         309000.0\n",
       "1         286651.0\n",
       "2         260000.0\n",
       "3         165000.0\n",
       "4         185900.0\n",
       "           ...    \n",
       "17285     510000.0\n",
       "17286    1115000.0\n",
       "17287     756000.0\n",
       "17288     875000.0\n",
       "17289     601000.0\n",
       "Name: price, Length: 17290, dtype: float64"
      ]
     },
     "metadata": {},
     "execution_count": 81
    }
   ]
  },
  {
   "source": [
    "model_test(kc_df_poly2_scaled, summary_features1, 'price')"
   ],
   "cell_type": "code",
   "metadata": {},
   "execution_count": 79,
   "outputs": [
    {
     "output_type": "stream",
     "name": "stdout",
     "text": [
      "Training:  0 vs. Testing:  0\n"
     ]
    }
   ]
  },
  {
   "source": [
    "## kc_df_poly2"
   ],
   "cell_type": "markdown",
   "metadata": {}
  },
  {
   "cell_type": "code",
   "execution_count": 81,
   "metadata": {},
   "outputs": [
    {
     "output_type": "stream",
     "name": "stdout",
     "text": [
      "Training set - Features:  (13832, 121) Target:  (13832,)\nTraining set - Features:  (3458, 121) Target:  (3458,)\n"
     ]
    }
   ],
   "source": [
    "#improt train_test_split from sklearn package\n",
    "from sklearn.model_selection import train_test_split\n",
    "#call train_test_split on the data and capture the results\n",
    "X_train, X_test, y_train, y_test = train_test_split(kc_df_poly2[summary_features1], kc_df_poly2['price'], random_state=24,test_size=0.2)\n",
    "#showing number of summary features\n",
    "#check the shape of the results\n",
    "print(\"Training set - Features: \", X_train.shape, \"Target: \", y_train.shape)\n",
    "print(\"Training set - Features: \", X_test.shape, \"Target: \",y_test.shape)"
   ]
  },
  {
   "source": [
    "#instantiate a linear regression object\n",
    "lm = linear_model.LinearRegression()\n",
    "\n",
    "#fit the linear regression to the data\n",
    "lm = lm.fit(X_train, y_train)\n",
    "\n",
    "\n",
    "#print the y intercept of our model\n",
    "print(lm.intercept_)\n",
    "#coefs for each of the summary features\n",
    "print(lm.coef_)"
   ],
   "cell_type": "code",
   "metadata": {},
   "execution_count": 88,
   "outputs": [
    {
     "output_type": "stream",
     "name": "stdout",
     "text": [
      "7570591.159768466\n[-4.23598869e+03 -8.84218124e+00 -2.40215229e-01  3.70141505e+02\n -1.08109612e+01 -2.32129195e-02  3.17644632e-02 -1.88318468e-04\n  2.90176690e-05 -2.50984571e+00 -7.02143932e+03  2.91935778e+04\n -8.84238273e+00 -2.40194970e-01  1.55344336e+02  6.59790511e+04\n -3.57730744e+02  6.05764833e+00 -1.71904627e+05 -1.06291103e+04\n  4.24556712e+01  1.66687330e-01 -9.69662670e+04 -5.60110577e+02\n -4.30205065e+03  5.19017750e+03  3.00042737e+04  3.93999306e+05\n -6.21942818e+04 -1.71706579e+04 -1.77512812e+04  1.20105706e+04\n  4.97928979e+04 -7.26020839e+04 -7.11172647e+04 -2.08267393e+04\n  2.15662709e+04  1.92183568e+04  2.87653255e+04  1.61615786e+04\n -1.23333611e+05  8.51839566e+04 -7.11819065e+03 -3.04207846e+04\n -3.19184209e+04  7.09695820e+04 -2.83308668e+04  8.82994848e+04\n  6.78389448e+05  8.63270897e+04  4.22298096e+04  1.77056467e+05\n  1.00309281e+05  2.52663244e+04 -8.22765912e+04 -4.40663334e+04\n -1.20505391e+05 -1.33680073e+05  6.63587156e+04 -2.84597066e+05\n -4.61217422e+04 -2.68641417e+03  6.26234851e+03 -6.34121938e+04\n  5.00378304e+04  1.84109776e+04  4.36693536e+04  1.41187987e+05\n -1.02157351e+05 -1.19165418e+04 -1.29148819e+05  2.95534399e+04\n  1.52637052e+05  5.12178228e+04 -1.00259749e+05  2.29389531e+03\n -1.22117157e+05  5.82125059e+04 -5.17945586e+04 -6.92167169e+04\n -5.65070780e+04 -6.09210613e+04 -1.27030701e+05 -1.11261654e+05\n -1.00603661e+05 -1.16862295e+05 -8.82094518e+04 -1.11565912e+05\n -1.13475905e+05 -8.42039906e+04 -1.27572281e+05 -1.05375512e+05\n -6.19963511e+04 -6.45964686e+04 -5.95333107e+03  1.11328843e+05\n  1.38050323e+05  1.55093397e+05  1.78384314e+05  2.22742066e+05\n  5.75507891e+04  6.72673213e+04  1.26641092e+05  2.66230163e+05\n -1.11365840e+04 -3.26942642e+04 -3.77021461e+03 -5.40230680e+04\n  1.52789115e+04 -5.49299362e+04  1.41225217e+05  1.28756883e+05\n  1.60189037e+05  1.82659331e+05  2.25656406e+05  2.85537069e+05\n  3.66455685e+05  4.90241565e+05  8.73520844e+05  2.03620812e+06\n  5.76497925e+05]\n"
     ]
    }
   ]
  },
  {
   "cell_type": "code",
   "execution_count": 83,
   "metadata": {},
   "outputs": [
    {
     "output_type": "stream",
     "name": "stdout",
     "text": [
      "R^2 Score: 0.8589150426170823\n"
     ]
    }
   ],
   "source": [
    "print (\"R^2 Score:\", lm.score(X_train, y_train))"
   ]
  },
  {
   "cell_type": "code",
   "execution_count": 84,
   "metadata": {},
   "outputs": [],
   "source": [
    "y_train_pred = lm.predict(X_train)"
   ]
  },
  {
   "cell_type": "code",
   "execution_count": 85,
   "metadata": {},
   "outputs": [
    {
     "output_type": "stream",
     "name": "stdout",
     "text": [
      "Root Mean Squared Error: 142360.20237314573\n"
     ]
    }
   ],
   "source": [
    "train_rmse = np.sqrt(metrics.mean_squared_error(y_train, y_train_pred))\n",
    "\n",
    "\n",
    "print('Root Mean Squared Error:' , train_rmse)"
   ]
  },
  {
   "cell_type": "code",
   "execution_count": 87,
   "metadata": {},
   "outputs": [
    {
     "output_type": "stream",
     "name": "stdout",
     "text": [
      "Z-Score of Root Mean Squared Error: 0.38133663295150494\n"
     ]
    }
   ],
   "source": [
    "price2_std = kc_df_poly2['price'].std()\n",
    "\n",
    "\n",
    "print('Z-Score of Root Mean Squared Error:' , train_rmse/price2_std)"
   ]
  },
  {
   "cell_type": "code",
   "execution_count": 89,
   "metadata": {},
   "outputs": [],
   "source": [
    "y_pred = lm.predict(X_test)"
   ]
  },
  {
   "cell_type": "code",
   "execution_count": 90,
   "metadata": {},
   "outputs": [
    {
     "output_type": "stream",
     "name": "stdout",
     "text": [
      "Score: 0.8573374646928246\n"
     ]
    }
   ],
   "source": [
    "print (\"Score:\", lm.score(X_test, y_test))"
   ]
  },
  {
   "cell_type": "code",
   "execution_count": 91,
   "metadata": {},
   "outputs": [
    {
     "output_type": "stream",
     "name": "stdout",
     "text": [
      "Mean Absolute Error:80085.07657980137\nMean Squared Error:17425169148.12298\nRoot Mean Squared Error:132004.42851708794\n"
     ]
    }
   ],
   "source": [
    "test_mae = metrics.mean_absolute_error(y_test, y_pred)\n",
    "test_rmse = np.sqrt(metrics.mean_squared_error(y_test, y_pred))\n",
    "\n",
    "\n",
    "print('Mean Absolute Error:' + str(metrics.mean_absolute_error(y_test, y_pred)))\n",
    "print('Mean Squared Error:' + str(metrics.mean_squared_error(y_test, y_pred)))\n",
    "print('Root Mean Squared Error:' + str(np.sqrt(metrics.mean_squared_error(y_test, y_pred))))"
   ]
  },
  {
   "cell_type": "code",
   "execution_count": 92,
   "metadata": {},
   "outputs": [
    {
     "output_type": "stream",
     "name": "stdout",
     "text": [
      "Mean Absolute Error  Z: 0.21452184629912907\nRoot Mean Squared Error Z: 0.35359688639280495\n"
     ]
    }
   ],
   "source": [
    "print('Mean Absolute Error  Z:', test_mae/price2_std )\n",
    "print('Root Mean Squared Error Z:' , test_rmse/price2_std)"
   ]
  },
  {
   "cell_type": "code",
   "execution_count": 93,
   "metadata": {},
   "outputs": [
    {
     "output_type": "stream",
     "name": "stdout",
     "text": [
      "Training:  142360 vs. Testing:  132004\n"
     ]
    }
   ],
   "source": [
    "print('Training: ', int(train_rmse), \"vs. Testing: \", int(test_rmse))"
   ]
  },
  {
   "cell_type": "code",
   "execution_count": null,
   "metadata": {},
   "outputs": [],
   "source": []
  },
  {
   "cell_type": "code",
   "execution_count": null,
   "metadata": {},
   "outputs": [],
   "source": []
  },
  {
   "cell_type": "code",
   "execution_count": null,
   "metadata": {},
   "outputs": [],
   "source": []
  },
  {
   "cell_type": "markdown",
   "metadata": {},
   "source": [
    "### 5.3) Transform the testing set with the scaler."
   ]
  },
  {
   "cell_type": "code",
   "execution_count": null,
   "metadata": {},
   "outputs": [],
   "source": [
    "#your code here "
   ]
  },
  {
   "cell_type": "code",
   "execution_count": 68,
   "metadata": {},
   "outputs": [],
   "source": [
    "scaled_test_data = scaler.transform(X_test)"
   ]
  },
  {
   "cell_type": "code",
   "execution_count": 69,
   "metadata": {},
   "outputs": [],
   "source": [
    "# Create the dataframe\n",
    "X_test_scaled = pd.DataFrame(data=scaled_test_data, columns=X_test.columns, index=X_test.index)"
   ]
  },
  {
   "cell_type": "code",
   "execution_count": null,
   "metadata": {},
   "outputs": [],
   "source": [
    "#X_test = pd.concat([X_test_scaled, X_test[not_scaled]], axis=1)"
   ]
  },
  {
   "cell_type": "code",
   "execution_count": 123,
   "metadata": {},
   "outputs": [
    {
     "output_type": "execute_result",
     "data": {
      "text/plain": [
       "       population  bedrooms  bathrooms  sqft_living  sqft_lot  sqft_above  \\\n",
       "2314    -1.048833 -0.410471  -0.797278    -0.298924  4.430921    0.028016   \n",
       "10893   -0.645017  0.694772  -1.446286    -0.700836 -0.547806   -0.540082   \n",
       "8474    -1.511105  0.694772   0.825243     1.366142 -0.443208    1.780656   \n",
       "4544     0.407041 -0.410471   0.500739     0.746049 -0.309225    1.127948   \n",
       "13527    0.369945 -1.515715  -0.797278    -1.274997 -0.689976   -0.999394   \n",
       "...           ...       ...        ...          ...       ...         ...   \n",
       "5617    -0.700375  0.694772  -0.472774     0.493418  4.430921   -0.346687   \n",
       "982     -1.248825 -0.410471  -0.472774    -0.356340 -0.092402   -0.032420   \n",
       "5553    -0.700375 -1.515715  -1.446286    -1.435762 -0.557601   -1.168615   \n",
       "4418     0.407041  0.694772   0.500739     0.814948 -0.338120    1.200471   \n",
       "761      0.077580 -1.515715  -1.446286    -1.171648 -0.204277   -0.890610   \n",
       "\n",
       "       sqft_basement  yr_built  yr_renovated       lat  ...     gra_5  \\\n",
       "2314       -0.809284 -0.061749     -0.208633 -2.479485  ... -0.106108   \n",
       "10893       1.235659 -1.456684     -0.208633 -0.195835  ... -0.106108   \n",
       "8474       -0.809284  1.095027     -0.208633 -0.135034  ... -0.106108   \n",
       "4544       -0.809284  0.652730     -0.208633  0.936218  ... -0.106108   \n",
       "13527      -0.809284  0.754799     -0.208633  0.421583  ... -0.106108   \n",
       "...              ...       ...           ...       ...  ...       ...   \n",
       "5617        1.235659 -0.027726     -0.208633 -0.184978  ... -0.106108   \n",
       "982        -0.809284 -0.470022     -0.208633  0.540289  ... -0.106108   \n",
       "5553       -0.809284 -0.095772     -0.208633  0.202266  ... -0.106108   \n",
       "4418       -0.809284  1.129050     -0.208633  0.766845  ... -0.106108   \n",
       "761        -0.809284 -0.674159     -0.208633  0.501927  ... -0.106108   \n",
       "\n",
       "          gra_6     gra_7     gra_8     gra_9    gra_10    gra_11    gra_12  \\\n",
       "2314  -0.325078  1.179762 -0.619702 -0.371062 -0.234504 -0.136773 -0.064891   \n",
       "10893 -0.325078 -0.847629  1.613679 -0.371062 -0.234504 -0.136773 -0.064891   \n",
       "8474  -0.325078 -0.847629 -0.619702  2.694966 -0.234504 -0.136773 -0.064891   \n",
       "4544  -0.325078 -0.847629 -0.619702  2.694966 -0.234504 -0.136773 -0.064891   \n",
       "13527 -0.325078  1.179762 -0.619702 -0.371062 -0.234504 -0.136773 -0.064891   \n",
       "...         ...       ...       ...       ...       ...       ...       ...   \n",
       "5617  -0.325078 -0.847629  1.613679 -0.371062 -0.234504 -0.136773 -0.064891   \n",
       "982   -0.325078 -0.847629  1.613679 -0.371062 -0.234504 -0.136773 -0.064891   \n",
       "5553  -0.325078  1.179762 -0.619702 -0.371062 -0.234504 -0.136773 -0.064891   \n",
       "4418  -0.325078 -0.847629 -0.619702  2.694966 -0.234504 -0.136773 -0.064891   \n",
       "761   -0.325078  1.179762 -0.619702 -0.371062 -0.234504 -0.136773 -0.064891   \n",
       "\n",
       "         gra_13     wat_1  \n",
       "2314  -0.024056 -0.091563  \n",
       "10893 -0.024056 -0.091563  \n",
       "8474  -0.024056 -0.091563  \n",
       "4544  -0.024056 -0.091563  \n",
       "13527 -0.024056 -0.091563  \n",
       "...         ...       ...  \n",
       "5617  -0.024056 -0.091563  \n",
       "982   -0.024056 -0.091563  \n",
       "5553  -0.024056 -0.091563  \n",
       "4418  -0.024056 -0.091563  \n",
       "761   -0.024056 -0.091563  \n",
       "\n",
       "[3458 rows x 112 columns]"
      ],
      "text/html": "<div>\n<style scoped>\n    .dataframe tbody tr th:only-of-type {\n        vertical-align: middle;\n    }\n\n    .dataframe tbody tr th {\n        vertical-align: top;\n    }\n\n    .dataframe thead th {\n        text-align: right;\n    }\n</style>\n<table border=\"1\" class=\"dataframe\">\n  <thead>\n    <tr style=\"text-align: right;\">\n      <th></th>\n      <th>population</th>\n      <th>bedrooms</th>\n      <th>bathrooms</th>\n      <th>sqft_living</th>\n      <th>sqft_lot</th>\n      <th>sqft_above</th>\n      <th>sqft_basement</th>\n      <th>yr_built</th>\n      <th>yr_renovated</th>\n      <th>lat</th>\n      <th>...</th>\n      <th>gra_5</th>\n      <th>gra_6</th>\n      <th>gra_7</th>\n      <th>gra_8</th>\n      <th>gra_9</th>\n      <th>gra_10</th>\n      <th>gra_11</th>\n      <th>gra_12</th>\n      <th>gra_13</th>\n      <th>wat_1</th>\n    </tr>\n  </thead>\n  <tbody>\n    <tr>\n      <th>2314</th>\n      <td>-1.048833</td>\n      <td>-0.410471</td>\n      <td>-0.797278</td>\n      <td>-0.298924</td>\n      <td>4.430921</td>\n      <td>0.028016</td>\n      <td>-0.809284</td>\n      <td>-0.061749</td>\n      <td>-0.208633</td>\n      <td>-2.479485</td>\n      <td>...</td>\n      <td>-0.106108</td>\n      <td>-0.325078</td>\n      <td>1.179762</td>\n      <td>-0.619702</td>\n      <td>-0.371062</td>\n      <td>-0.234504</td>\n      <td>-0.136773</td>\n      <td>-0.064891</td>\n      <td>-0.024056</td>\n      <td>-0.091563</td>\n    </tr>\n    <tr>\n      <th>10893</th>\n      <td>-0.645017</td>\n      <td>0.694772</td>\n      <td>-1.446286</td>\n      <td>-0.700836</td>\n      <td>-0.547806</td>\n      <td>-0.540082</td>\n      <td>1.235659</td>\n      <td>-1.456684</td>\n      <td>-0.208633</td>\n      <td>-0.195835</td>\n      <td>...</td>\n      <td>-0.106108</td>\n      <td>-0.325078</td>\n      <td>-0.847629</td>\n      <td>1.613679</td>\n      <td>-0.371062</td>\n      <td>-0.234504</td>\n      <td>-0.136773</td>\n      <td>-0.064891</td>\n      <td>-0.024056</td>\n      <td>-0.091563</td>\n    </tr>\n    <tr>\n      <th>8474</th>\n      <td>-1.511105</td>\n      <td>0.694772</td>\n      <td>0.825243</td>\n      <td>1.366142</td>\n      <td>-0.443208</td>\n      <td>1.780656</td>\n      <td>-0.809284</td>\n      <td>1.095027</td>\n      <td>-0.208633</td>\n      <td>-0.135034</td>\n      <td>...</td>\n      <td>-0.106108</td>\n      <td>-0.325078</td>\n      <td>-0.847629</td>\n      <td>-0.619702</td>\n      <td>2.694966</td>\n      <td>-0.234504</td>\n      <td>-0.136773</td>\n      <td>-0.064891</td>\n      <td>-0.024056</td>\n      <td>-0.091563</td>\n    </tr>\n    <tr>\n      <th>4544</th>\n      <td>0.407041</td>\n      <td>-0.410471</td>\n      <td>0.500739</td>\n      <td>0.746049</td>\n      <td>-0.309225</td>\n      <td>1.127948</td>\n      <td>-0.809284</td>\n      <td>0.652730</td>\n      <td>-0.208633</td>\n      <td>0.936218</td>\n      <td>...</td>\n      <td>-0.106108</td>\n      <td>-0.325078</td>\n      <td>-0.847629</td>\n      <td>-0.619702</td>\n      <td>2.694966</td>\n      <td>-0.234504</td>\n      <td>-0.136773</td>\n      <td>-0.064891</td>\n      <td>-0.024056</td>\n      <td>-0.091563</td>\n    </tr>\n    <tr>\n      <th>13527</th>\n      <td>0.369945</td>\n      <td>-1.515715</td>\n      <td>-0.797278</td>\n      <td>-1.274997</td>\n      <td>-0.689976</td>\n      <td>-0.999394</td>\n      <td>-0.809284</td>\n      <td>0.754799</td>\n      <td>-0.208633</td>\n      <td>0.421583</td>\n      <td>...</td>\n      <td>-0.106108</td>\n      <td>-0.325078</td>\n      <td>1.179762</td>\n      <td>-0.619702</td>\n      <td>-0.371062</td>\n      <td>-0.234504</td>\n      <td>-0.136773</td>\n      <td>-0.064891</td>\n      <td>-0.024056</td>\n      <td>-0.091563</td>\n    </tr>\n    <tr>\n      <th>...</th>\n      <td>...</td>\n      <td>...</td>\n      <td>...</td>\n      <td>...</td>\n      <td>...</td>\n      <td>...</td>\n      <td>...</td>\n      <td>...</td>\n      <td>...</td>\n      <td>...</td>\n      <td>...</td>\n      <td>...</td>\n      <td>...</td>\n      <td>...</td>\n      <td>...</td>\n      <td>...</td>\n      <td>...</td>\n      <td>...</td>\n      <td>...</td>\n      <td>...</td>\n      <td>...</td>\n    </tr>\n    <tr>\n      <th>5617</th>\n      <td>-0.700375</td>\n      <td>0.694772</td>\n      <td>-0.472774</td>\n      <td>0.493418</td>\n      <td>4.430921</td>\n      <td>-0.346687</td>\n      <td>1.235659</td>\n      <td>-0.027726</td>\n      <td>-0.208633</td>\n      <td>-0.184978</td>\n      <td>...</td>\n      <td>-0.106108</td>\n      <td>-0.325078</td>\n      <td>-0.847629</td>\n      <td>1.613679</td>\n      <td>-0.371062</td>\n      <td>-0.234504</td>\n      <td>-0.136773</td>\n      <td>-0.064891</td>\n      <td>-0.024056</td>\n      <td>-0.091563</td>\n    </tr>\n    <tr>\n      <th>982</th>\n      <td>-1.248825</td>\n      <td>-0.410471</td>\n      <td>-0.472774</td>\n      <td>-0.356340</td>\n      <td>-0.092402</td>\n      <td>-0.032420</td>\n      <td>-0.809284</td>\n      <td>-0.470022</td>\n      <td>-0.208633</td>\n      <td>0.540289</td>\n      <td>...</td>\n      <td>-0.106108</td>\n      <td>-0.325078</td>\n      <td>-0.847629</td>\n      <td>1.613679</td>\n      <td>-0.371062</td>\n      <td>-0.234504</td>\n      <td>-0.136773</td>\n      <td>-0.064891</td>\n      <td>-0.024056</td>\n      <td>-0.091563</td>\n    </tr>\n    <tr>\n      <th>5553</th>\n      <td>-0.700375</td>\n      <td>-1.515715</td>\n      <td>-1.446286</td>\n      <td>-1.435762</td>\n      <td>-0.557601</td>\n      <td>-1.168615</td>\n      <td>-0.809284</td>\n      <td>-0.095772</td>\n      <td>-0.208633</td>\n      <td>0.202266</td>\n      <td>...</td>\n      <td>-0.106108</td>\n      <td>-0.325078</td>\n      <td>1.179762</td>\n      <td>-0.619702</td>\n      <td>-0.371062</td>\n      <td>-0.234504</td>\n      <td>-0.136773</td>\n      <td>-0.064891</td>\n      <td>-0.024056</td>\n      <td>-0.091563</td>\n    </tr>\n    <tr>\n      <th>4418</th>\n      <td>0.407041</td>\n      <td>0.694772</td>\n      <td>0.500739</td>\n      <td>0.814948</td>\n      <td>-0.338120</td>\n      <td>1.200471</td>\n      <td>-0.809284</td>\n      <td>1.129050</td>\n      <td>-0.208633</td>\n      <td>0.766845</td>\n      <td>...</td>\n      <td>-0.106108</td>\n      <td>-0.325078</td>\n      <td>-0.847629</td>\n      <td>-0.619702</td>\n      <td>2.694966</td>\n      <td>-0.234504</td>\n      <td>-0.136773</td>\n      <td>-0.064891</td>\n      <td>-0.024056</td>\n      <td>-0.091563</td>\n    </tr>\n    <tr>\n      <th>761</th>\n      <td>0.077580</td>\n      <td>-1.515715</td>\n      <td>-1.446286</td>\n      <td>-1.171648</td>\n      <td>-0.204277</td>\n      <td>-0.890610</td>\n      <td>-0.809284</td>\n      <td>-0.674159</td>\n      <td>-0.208633</td>\n      <td>0.501927</td>\n      <td>...</td>\n      <td>-0.106108</td>\n      <td>-0.325078</td>\n      <td>1.179762</td>\n      <td>-0.619702</td>\n      <td>-0.371062</td>\n      <td>-0.234504</td>\n      <td>-0.136773</td>\n      <td>-0.064891</td>\n      <td>-0.024056</td>\n      <td>-0.091563</td>\n    </tr>\n  </tbody>\n</table>\n<p>3458 rows × 112 columns</p>\n</div>"
     },
     "metadata": {},
     "execution_count": 123
    }
   ],
   "source": [
    "X_test_scaled"
   ]
  },
  {
   "cell_type": "code",
   "execution_count": null,
   "metadata": {},
   "outputs": [],
   "source": [
    "X_train_scaled \n",
    "X_teset_scaled"
   ]
  },
  {
   "cell_type": "code",
   "execution_count": null,
   "metadata": {},
   "outputs": [],
   "source": []
  },
  {
   "cell_type": "markdown",
   "metadata": {},
   "source": [
    "### 5.4) Fit the model to the training data."
   ]
  },
  {
   "cell_type": "code",
   "execution_count": null,
   "metadata": {},
   "outputs": [],
   "source": [
    "#your code here "
   ]
  },
  {
   "cell_type": "code",
   "execution_count": 66,
   "metadata": {},
   "outputs": [],
   "source": [
    "#instantiate a linear regression object\n",
    "lm = LinearRegression()"
   ]
  },
  {
   "cell_type": "code",
   "execution_count": 67,
   "metadata": {},
   "outputs": [],
   "source": [
    "#fit the linear regression to the data\n",
    "lm = lm.fit(X_train, y_train)"
   ]
  },
  {
   "cell_type": "code",
   "execution_count": 68,
   "metadata": {},
   "outputs": [],
   "source": [
    "y_train_pred = lm.predict(X_train)"
   ]
  },
  {
   "cell_type": "code",
   "execution_count": 69,
   "metadata": {},
   "outputs": [
    {
     "output_type": "stream",
     "name": "stdout",
     "text": [
      "Training Root Mean Squared Error: 135797.66590476874\n"
     ]
    }
   ],
   "source": [
    "train_rmse = np.sqrt(metrics.mean_squared_error(y_train, y_train_pred))\n",
    "\n",
    "\n",
    "print('Training Root Mean Squared Error:' , train_rmse)"
   ]
  },
  {
   "cell_type": "code",
   "execution_count": 75,
   "metadata": {},
   "outputs": [],
   "source": [
    "# Now we want to evaluate on the test set"
   ]
  },
  {
   "cell_type": "code",
   "execution_count": 70,
   "metadata": {},
   "outputs": [
    {
     "output_type": "stream",
     "name": "stdout",
     "text": [
      "Testing Root Mean Squared Error: 131178.0560260095\nTraining:  135797 vs. Testing:  131178\n"
     ]
    }
   ],
   "source": [
    "y_test_pred = lm.predict(X_test)\n",
    "\n",
    "#evaluate the predictions on the test examples\n",
    "test_rmse = np.sqrt(metrics.mean_squared_error(y_test, y_test_pred))\n",
    "\n",
    "print('Testing Root Mean Squared Error:' , test_rmse)\n",
    "\n",
    "\n",
    "print('Training: ', int(train_rmse), \"vs. Testing: \", int(test_rmse))"
   ]
  },
  {
   "cell_type": "code",
   "execution_count": null,
   "metadata": {},
   "outputs": [],
   "source": [
    "sns.residplot( y_test, y_test_pred,lowess=True, color=\"g\")"
   ]
  },
  {
   "source": [
    "## Log test start"
   ],
   "cell_type": "markdown",
   "metadata": {}
  },
  {
   "cell_type": "code",
   "execution_count": null,
   "metadata": {},
   "outputs": [],
   "source": [
    "# Log test\n",
    "\n",
    "y_log = np.log(y_train)"
   ]
  },
  {
   "cell_type": "code",
   "execution_count": null,
   "metadata": {},
   "outputs": [],
   "source": [
    "#instantiate a linear regression object\n",
    "lm_log = LinearRegression()\n",
    "\n",
    "#fit the linear regression to the data\n",
    "lm_log = lm_log.fit(X_train, y_log)\n",
    "\n",
    "log_train_pred = lm_log.predict(X_train)"
   ]
  },
  {
   "cell_type": "code",
   "execution_count": null,
   "metadata": {},
   "outputs": [],
   "source": [
    "#log_train_pred the predictions to get them on the same original scale \n",
    "y_train_pred = np.exp(log_train_pred)"
   ]
  },
  {
   "cell_type": "code",
   "execution_count": null,
   "metadata": {},
   "outputs": [],
   "source": [
    "train_rmse = np.sqrt(metrics.mean_squared_error(y_train, log_train_pred))\n",
    "\n",
    "\n",
    "print('Training Root Mean Squared Error:' , train_rmse)"
   ]
  },
  {
   "cell_type": "code",
   "execution_count": 60,
   "metadata": {},
   "outputs": [
    {
     "output_type": "error",
     "ename": "NameError",
     "evalue": "name 'test_rmse' is not defined",
     "traceback": [
      "\u001b[1;31m---------------------------------------------------------------------------\u001b[0m",
      "\u001b[1;31mNameError\u001b[0m                                 Traceback (most recent call last)",
      "\u001b[1;32m<ipython-input-60-e0ee388ffd9d>\u001b[0m in \u001b[0;36m<module>\u001b[1;34m\u001b[0m\n\u001b[1;32m----> 1\u001b[1;33m \u001b[0mprint\u001b[0m\u001b[1;33m(\u001b[0m\u001b[1;34m'Perfomance : {} %'\u001b[0m\u001b[1;33m.\u001b[0m\u001b[0mformat\u001b[0m\u001b[1;33m(\u001b[0m\u001b[0mround\u001b[0m\u001b[1;33m(\u001b[0m\u001b[0mabs\u001b[0m\u001b[1;33m(\u001b[0m\u001b[1;33m(\u001b[0m\u001b[0mtest_rmse\u001b[0m\u001b[1;33m-\u001b[0m\u001b[0mtrain_rmse\u001b[0m\u001b[1;33m)\u001b[0m\u001b[1;33m/\u001b[0m\u001b[0mtrain_rmse\u001b[0m\u001b[1;33m)\u001b[0m\u001b[1;33m*\u001b[0m\u001b[1;36m100\u001b[0m\u001b[1;33m)\u001b[0m\u001b[1;33m)\u001b[0m\u001b[1;33m)\u001b[0m\u001b[1;33m\u001b[0m\u001b[1;33m\u001b[0m\u001b[0m\n\u001b[0m",
      "\u001b[1;31mNameError\u001b[0m: name 'test_rmse' is not defined"
     ]
    }
   ],
   "source": [
    "print('Perfomance : {} %'.format(round(abs((test_rmse-train_rmse)/train_rmse)*100)))\n"
   ]
  },
  {
   "cell_type": "code",
   "execution_count": null,
   "metadata": {},
   "outputs": [],
   "source": []
  },
  {
   "cell_type": "code",
   "execution_count": null,
   "metadata": {},
   "outputs": [],
   "source": []
  },
  {
   "cell_type": "markdown",
   "metadata": {},
   "source": [
    "### 5.5) Use the model to predict on the training set and the test set."
   ]
  },
  {
   "cell_type": "code",
   "execution_count": null,
   "metadata": {},
   "outputs": [],
   "source": []
  },
  {
   "cell_type": "code",
   "execution_count": null,
   "metadata": {},
   "outputs": [],
   "source": [
    "#your code here "
   ]
  },
  {
   "cell_type": "code",
   "execution_count": null,
   "metadata": {},
   "outputs": [],
   "source": [
    "y_train_pred = lm.predict(X_train)\n",
    "y_test_pred = lm.predict(X_test)"
   ]
  },
  {
   "cell_type": "code",
   "execution_count": null,
   "metadata": {},
   "outputs": [],
   "source": [
    "y_train_pred"
   ]
  },
  {
   "cell_type": "markdown",
   "metadata": {},
   "source": [
    "### 5.6) Evaluate the training and test predictions using RMSE."
   ]
  },
  {
   "cell_type": "code",
   "execution_count": null,
   "metadata": {},
   "outputs": [],
   "source": [
    "#your code here "
   ]
  },
  {
   "cell_type": "code",
   "execution_count": null,
   "metadata": {},
   "outputs": [],
   "source": [
    "rmse = np.sqrt(metrics.mean_squared_error(y_train, y_train_pred))\n",
    "test_rmse = np.sqrt(metrics.mean_squared_error(y_test, y_test_pred))\n",
    "print(‘Training Root Mean Squared Error:’ , train_rmse)\n",
    "print(‘Testing Root Mean Squared Error:’ , test_rmse)"
   ]
  },
  {
   "cell_type": "markdown",
   "metadata": {},
   "source": [
    "### 5.7) Determine if your model is overfit."
   ]
  },
  {
   "cell_type": "code",
   "execution_count": null,
   "metadata": {},
   "outputs": [],
   "source": [
    "#your code here "
   ]
  },
  {
   "cell_type": "code",
   "execution_count": 72,
   "metadata": {},
   "outputs": [
    {
     "output_type": "stream",
     "name": "stdout",
     "text": [
      "Perfomance : 3 %\n"
     ]
    }
   ],
   "source": [
    "print('Perfomance : {} %'.format(round(abs((test_rmse-train_rmse)/train_rmse)*100)))\n"
   ]
  },
  {
   "cell_type": "markdown",
   "metadata": {},
   "source": [
    "## Step 6: Utilize some different feature selection techniques before or in conjuction with fitting your models."
   ]
  },
  {
   "cell_type": "markdown",
   "metadata": {},
   "source": [
    "### 6.1) Utilize a filter method to identify some features to remove from the model.  "
   ]
  },
  {
   "cell_type": "code",
   "execution_count": null,
   "metadata": {},
   "outputs": [],
   "source": [
    "# your code here"
   ]
  },
  {
   "cell_type": "code",
   "execution_count": 95,
   "metadata": {},
   "outputs": [],
   "source": [
    "def f_test_selection(df, target, k):\n",
    "    \"\"\"\n",
    "    k - Select features according to the k highest scores\n",
    "    \"\"\"\n",
    "    X_train, X_test, y_train, y_test = train_test_split(df, target, random_state=9, test_size=0.2)\n",
    "    scaler = StandardScaler()\n",
    "    # fit the scaler to the training data\n",
    "    scaler.fit(X_train)\n",
    "    #transform the training data\n",
    "    scaled_data = scaler.transform(X_train)\n",
    "    X_train_scaled = pd.DataFrame(data=scaled_data, columns=df.columns, index=X_train.index)\n",
    "    #transform the test data\n",
    "    scaled_test_data = scaler.transform(X_test)\n",
    "    #create dataframe\n",
    "    X_test_scaled = pd.DataFrame(data=scaled_test_data, columns=df.columns, index=X_test.index)\n",
    "    selector = SelectKBest(f_regression, k= k)\n",
    "    selector.fit(X_train_scaled, y_train)\n",
    "    selected_columns = X_train_scaled.columns[selector.get_support()]\n",
    "    removed_columns = X_train_scaled.columns[~selector.get_support()]\n",
    "    return selected_columns"
   ]
  },
  {
   "cell_type": "code",
   "execution_count": 96,
   "metadata": {},
   "outputs": [
    {
     "output_type": "execute_result",
     "data": {
      "text/plain": [
       "Index(['dist_city_x', 'sqft_living_x', 'sqft_lot_x', 'dist_city^2',\n",
       "       'dist_city sqft_living', 'sqft_living^2', 'sqft_living sqft_lot',\n",
       "       'sqft_lot^2', 'population', 'price', 'bedrooms', 'bathrooms',\n",
       "       'sqft_living_y', 'sqft_lot_y', 'sqft_above', 'sqft_basement',\n",
       "       'yr_built', 'yr_renovated', 'lat', 'sqft_living15', 'sqft_lot15',\n",
       "       'sqft_liv_lot', 'yr_updated', 'dist_city_y', 'zip_98002', 'zip_98003',\n",
       "       'zip_98004', 'zip_98005', 'zip_98006', 'zip_98008', 'zip_98010',\n",
       "       'zip_98019', 'zip_98022', 'zip_98023', 'zip_98027', 'zip_98029',\n",
       "       'zip_98030', 'zip_98031', 'zip_98032', 'zip_98033', 'zip_98038',\n",
       "       'zip_98039', 'zip_98040', 'zip_98042', 'zip_98045', 'zip_98052',\n",
       "       'zip_98053', 'zip_98055', 'zip_98056', 'zip_98058', 'zip_98074',\n",
       "       'zip_98075', 'zip_98077', 'zip_98092', 'zip_98102', 'zip_98105',\n",
       "       'zip_98106', 'zip_98108', 'zip_98109', 'zip_98112', 'zip_98115',\n",
       "       'zip_98116', 'zip_98118', 'zip_98119', 'zip_98122', 'zip_98125',\n",
       "       'zip_98126', 'zip_98133', 'zip_98144', 'zip_98146', 'zip_98148',\n",
       "       'zip_98155', 'zip_98168', 'zip_98177', 'zip_98178', 'zip_98188',\n",
       "       'zip_98198', 'zip_98199', 'sch_3', 'sch_5', 'con_2', 'con_4', 'con_5',\n",
       "       'vie_1', 'vie_2', 'vie_3', 'vie_4', 'flo_2.0', 'flo_2.5', 'flo_3.5',\n",
       "       'gra_4', 'gra_5', 'gra_6', 'gra_7', 'gra_9', 'gra_10', 'gra_11',\n",
       "       'gra_12', 'gra_13', 'wat_1'],\n",
       "      dtype='object')"
      ]
     },
     "metadata": {},
     "execution_count": 96
    }
   ],
   "source": [
    "f_test_selection(kc_df_poly2, kc_df['price'], 100)"
   ]
  },
  {
   "cell_type": "markdown",
   "metadata": {},
   "source": [
    "### 6.2) After removing the features, re-run Step 5 and see if your new model performs better than the old model."
   ]
  },
  {
   "cell_type": "code",
   "execution_count": 99,
   "metadata": {},
   "outputs": [],
   "source": [
    "best_features = ['dist_city_x', 'sqft_living_x', 'sqft_lot_x', 'dist_city^2',\n",
    "       'dist_city sqft_living', 'sqft_living^2', 'sqft_living sqft_lot',\n",
    "       'sqft_lot^2', 'population', 'bedrooms', 'bathrooms',\n",
    "       'sqft_living_y', 'sqft_lot_y', 'sqft_above', 'sqft_basement',\n",
    "       'yr_built', 'yr_renovated', 'lat', 'sqft_living15', 'sqft_lot15',\n",
    "       'sqft_liv_lot', 'yr_updated', 'dist_city_y', 'zip_98002', 'zip_98003',\n",
    "       'zip_98004', 'zip_98005', 'zip_98006', 'zip_98008', 'zip_98010',\n",
    "       'zip_98019', 'zip_98022', 'zip_98023', 'zip_98027', 'zip_98029',\n",
    "       'zip_98030', 'zip_98031', 'zip_98032', 'zip_98033', 'zip_98038',\n",
    "       'zip_98039', 'zip_98040', 'zip_98042', 'zip_98045', 'zip_98052',\n",
    "       'zip_98053', 'zip_98055', 'zip_98056', 'zip_98058', 'zip_98074',\n",
    "       'zip_98075', 'zip_98077', 'zip_98092', 'zip_98102', 'zip_98105',\n",
    "       'zip_98106', 'zip_98108', 'zip_98109', 'zip_98112', 'zip_98115',\n",
    "       'zip_98116', 'zip_98118', 'zip_98119', 'zip_98122', 'zip_98125',\n",
    "       'zip_98126', 'zip_98133', 'zip_98144', 'zip_98146', 'zip_98148',\n",
    "       'zip_98155', 'zip_98168', 'zip_98177', 'zip_98178', 'zip_98188',\n",
    "       'zip_98198', 'zip_98199', 'sch_3', 'sch_5', 'con_2', 'con_4', 'con_5',\n",
    "       'vie_1', 'vie_2', 'vie_3', 'vie_4', 'flo_2.0', 'flo_2.5', 'flo_3.5',\n",
    "       'gra_4', 'gra_5', 'gra_6', 'gra_7', 'gra_9', 'gra_10', 'gra_11',\n",
    "       'gra_12', 'gra_13', 'wat_1']"
   ]
  },
  {
   "cell_type": "markdown",
   "metadata": {},
   "source": [
    "## Step 7: Evaluate your different models in order to determine the best model overall."
   ]
  },
  {
   "cell_type": "code",
   "execution_count": 102,
   "metadata": {},
   "outputs": [],
   "source": [
    "#instantiate a linear regression object\n",
    "lm_rfe = LinearRegression()\n",
    "#fit the linear regression to the data\n",
    "lm_rfe = lm.fit(X_train, y_train)"
   ]
  },
  {
   "cell_type": "code",
   "execution_count": 104,
   "metadata": {},
   "outputs": [],
   "source": [
    "#your code here \n",
    "y_train_pred_rfe = lm_rfe.predict(X_train)\n",
    "y_test_pred_rfe = lm_rfe.predict(X_test)"
   ]
  },
  {
   "cell_type": "code",
   "execution_count": 105,
   "metadata": {},
   "outputs": [
    {
     "output_type": "stream",
     "name": "stdout",
     "text": [
      "Training Root Mean Squared Error: 142360.20237314573\nTraining Root Mean Squared Error: 132004.42851708794\n"
     ]
    }
   ],
   "source": [
    "train_rmse = np.sqrt(metrics.mean_squared_error(y_train, y_train_pred_rfe))\n",
    "test_rmse = np.sqrt(metrics.mean_squared_error(y_test, y_test_pred_rfe))\n",
    "print('Training Root Mean Squared Error:' , train_rmse)\n",
    "print('Training Root Mean Squared Error:' , test_rmse)"
   ]
  },
  {
   "cell_type": "code",
   "execution_count": 106,
   "metadata": {},
   "outputs": [],
   "source": [
    "scaler1 = StandardScaler()"
   ]
  },
  {
   "cell_type": "code",
   "execution_count": 107,
   "metadata": {},
   "outputs": [
    {
     "output_type": "execute_result",
     "data": {
      "text/plain": [
       "StandardScaler()"
      ]
     },
     "metadata": {},
     "execution_count": 107
    }
   ],
   "source": [
    "scaler1.fit(kc_df[summary_features])"
   ]
  },
  {
   "cell_type": "code",
   "execution_count": 108,
   "metadata": {},
   "outputs": [],
   "source": [
    "scaled_data2 = scaler1.transform(kc_df[summary_features])\n",
    "df_features_scaled = pd.DataFrame(data=scaled_data2, columns=summary_features, index=kc_df.index)"
   ]
  },
  {
   "cell_type": "code",
   "execution_count": 109,
   "metadata": {},
   "outputs": [],
   "source": [
    "lm_final = LinearRegression()\n",
    "lim_final = lm.fit(df_features_scaled, target)"
   ]
  },
  {
   "cell_type": "code",
   "execution_count": 110,
   "metadata": {},
   "outputs": [
    {
     "output_type": "execute_result",
     "data": {
      "text/plain": [
       "       population  bedrooms  bathrooms  sqft_living  sqft_lot  sqft_above  \\\n",
       "0       -0.125673  1.784465   0.828598     0.469905 -0.536551    0.834129   \n",
       "1       -0.125673 -0.406516   0.503706    -0.276521 -0.470094    0.049074   \n",
       "2       -0.125673  1.784465   0.178813     0.285305 -0.373900   -0.626242   \n",
       "3       -0.125673 -0.406516  -1.445650    -1.056197  0.521374   -0.770953   \n",
       "4       -0.125673 -0.406516  -1.445650    -1.296979 -0.058722   -1.024197   \n",
       "...           ...       ...        ...          ...       ...         ...   \n",
       "17285   -0.988677 -1.502007  -1.445650    -1.446035 -0.366571   -1.180967   \n",
       "17286   -0.988677  0.688974   0.503706     1.856123 -0.037710    0.483206   \n",
       "17287   -0.988677 -0.406516   0.503706     1.707068 -0.239731   -0.167992   \n",
       "17288   -0.988677 -1.502007   0.503706     0.743938 -0.475958   -0.107696   \n",
       "17289   -0.988677 -0.406516   0.503706    -0.379713 -0.731591   -0.734775   \n",
       "\n",
       "       sqft_basement  yr_built  yr_renovated       lat  ...     gra_5  \\\n",
       "0          -0.805717  1.472531     -0.209349 -2.166476  ... -0.105969   \n",
       "1          -0.805717  1.131730     -0.209349 -1.853633  ... -0.105969   \n",
       "2           1.241131 -0.129232     -0.209349 -1.625323  ... -0.105969   \n",
       "3          -0.805717 -2.139956     -0.209349 -2.055210  ...  9.436741   \n",
       "4          -0.805717 -2.105876     -0.209349 -2.050153  ...  9.436741   \n",
       "...              ...       ...           ...       ...  ...       ...   \n",
       "17285      -0.805717 -0.981234     -0.209349  0.644773  ... -0.105969   \n",
       "17286       1.241131 -0.674513     -0.209349  0.602146  ... -0.105969   \n",
       "17287       1.241131 -0.776753     -0.209349  0.630323  ... -0.105969   \n",
       "17288       1.241131 -1.185714     -0.209349  0.566021  ... -0.105969   \n",
       "17289       1.241131  1.404371     -0.209349  0.606481  ... -0.105969   \n",
       "\n",
       "          gra_6     gra_7     gra_8     gra_9    gra_10    gra_11    gra_12  \\\n",
       "0     -0.324588 -0.843028  1.602005 -0.371718 -0.233369 -0.137101 -0.064666   \n",
       "1     -0.324588  1.186201 -0.624218 -0.371718 -0.233369 -0.137101 -0.064666   \n",
       "2     -0.324588  1.186201 -0.624218 -0.371718 -0.233369 -0.137101 -0.064666   \n",
       "3     -0.324588 -0.843028 -0.624218 -0.371718 -0.233369 -0.137101 -0.064666   \n",
       "4     -0.324588 -0.843028 -0.624218 -0.371718 -0.233369 -0.137101 -0.064666   \n",
       "...         ...       ...       ...       ...       ...       ...       ...   \n",
       "17285  3.080829 -0.843028 -0.624218 -0.371718 -0.233369 -0.137101 -0.064666   \n",
       "17286 -0.324588 -0.843028 -0.624218 -0.371718  4.285056 -0.137101 -0.064666   \n",
       "17287 -0.324588 -0.843028  1.602005 -0.371718 -0.233369 -0.137101 -0.064666   \n",
       "17288 -0.324588 -0.843028  1.602005 -0.371718 -0.233369 -0.137101 -0.064666   \n",
       "17289 -0.324588 -0.843028 -0.624218  2.690215 -0.233369 -0.137101 -0.064666   \n",
       "\n",
       "         gra_13     wat_1  \n",
       "0     -0.025231 -0.089698  \n",
       "1     -0.025231 -0.089698  \n",
       "2     -0.025231 -0.089698  \n",
       "3     -0.025231 -0.089698  \n",
       "4     -0.025231 -0.089698  \n",
       "...         ...       ...  \n",
       "17285 -0.025231 -0.089698  \n",
       "17286 -0.025231 -0.089698  \n",
       "17287 -0.025231 -0.089698  \n",
       "17288 -0.025231 -0.089698  \n",
       "17289 -0.025231 -0.089698  \n",
       "\n",
       "[17290 rows x 112 columns]"
      ],
      "text/html": "<div>\n<style scoped>\n    .dataframe tbody tr th:only-of-type {\n        vertical-align: middle;\n    }\n\n    .dataframe tbody tr th {\n        vertical-align: top;\n    }\n\n    .dataframe thead th {\n        text-align: right;\n    }\n</style>\n<table border=\"1\" class=\"dataframe\">\n  <thead>\n    <tr style=\"text-align: right;\">\n      <th></th>\n      <th>population</th>\n      <th>bedrooms</th>\n      <th>bathrooms</th>\n      <th>sqft_living</th>\n      <th>sqft_lot</th>\n      <th>sqft_above</th>\n      <th>sqft_basement</th>\n      <th>yr_built</th>\n      <th>yr_renovated</th>\n      <th>lat</th>\n      <th>...</th>\n      <th>gra_5</th>\n      <th>gra_6</th>\n      <th>gra_7</th>\n      <th>gra_8</th>\n      <th>gra_9</th>\n      <th>gra_10</th>\n      <th>gra_11</th>\n      <th>gra_12</th>\n      <th>gra_13</th>\n      <th>wat_1</th>\n    </tr>\n  </thead>\n  <tbody>\n    <tr>\n      <th>0</th>\n      <td>-0.125673</td>\n      <td>1.784465</td>\n      <td>0.828598</td>\n      <td>0.469905</td>\n      <td>-0.536551</td>\n      <td>0.834129</td>\n      <td>-0.805717</td>\n      <td>1.472531</td>\n      <td>-0.209349</td>\n      <td>-2.166476</td>\n      <td>...</td>\n      <td>-0.105969</td>\n      <td>-0.324588</td>\n      <td>-0.843028</td>\n      <td>1.602005</td>\n      <td>-0.371718</td>\n      <td>-0.233369</td>\n      <td>-0.137101</td>\n      <td>-0.064666</td>\n      <td>-0.025231</td>\n      <td>-0.089698</td>\n    </tr>\n    <tr>\n      <th>1</th>\n      <td>-0.125673</td>\n      <td>-0.406516</td>\n      <td>0.503706</td>\n      <td>-0.276521</td>\n      <td>-0.470094</td>\n      <td>0.049074</td>\n      <td>-0.805717</td>\n      <td>1.131730</td>\n      <td>-0.209349</td>\n      <td>-1.853633</td>\n      <td>...</td>\n      <td>-0.105969</td>\n      <td>-0.324588</td>\n      <td>1.186201</td>\n      <td>-0.624218</td>\n      <td>-0.371718</td>\n      <td>-0.233369</td>\n      <td>-0.137101</td>\n      <td>-0.064666</td>\n      <td>-0.025231</td>\n      <td>-0.089698</td>\n    </tr>\n    <tr>\n      <th>2</th>\n      <td>-0.125673</td>\n      <td>1.784465</td>\n      <td>0.178813</td>\n      <td>0.285305</td>\n      <td>-0.373900</td>\n      <td>-0.626242</td>\n      <td>1.241131</td>\n      <td>-0.129232</td>\n      <td>-0.209349</td>\n      <td>-1.625323</td>\n      <td>...</td>\n      <td>-0.105969</td>\n      <td>-0.324588</td>\n      <td>1.186201</td>\n      <td>-0.624218</td>\n      <td>-0.371718</td>\n      <td>-0.233369</td>\n      <td>-0.137101</td>\n      <td>-0.064666</td>\n      <td>-0.025231</td>\n      <td>-0.089698</td>\n    </tr>\n    <tr>\n      <th>3</th>\n      <td>-0.125673</td>\n      <td>-0.406516</td>\n      <td>-1.445650</td>\n      <td>-1.056197</td>\n      <td>0.521374</td>\n      <td>-0.770953</td>\n      <td>-0.805717</td>\n      <td>-2.139956</td>\n      <td>-0.209349</td>\n      <td>-2.055210</td>\n      <td>...</td>\n      <td>9.436741</td>\n      <td>-0.324588</td>\n      <td>-0.843028</td>\n      <td>-0.624218</td>\n      <td>-0.371718</td>\n      <td>-0.233369</td>\n      <td>-0.137101</td>\n      <td>-0.064666</td>\n      <td>-0.025231</td>\n      <td>-0.089698</td>\n    </tr>\n    <tr>\n      <th>4</th>\n      <td>-0.125673</td>\n      <td>-0.406516</td>\n      <td>-1.445650</td>\n      <td>-1.296979</td>\n      <td>-0.058722</td>\n      <td>-1.024197</td>\n      <td>-0.805717</td>\n      <td>-2.105876</td>\n      <td>-0.209349</td>\n      <td>-2.050153</td>\n      <td>...</td>\n      <td>9.436741</td>\n      <td>-0.324588</td>\n      <td>-0.843028</td>\n      <td>-0.624218</td>\n      <td>-0.371718</td>\n      <td>-0.233369</td>\n      <td>-0.137101</td>\n      <td>-0.064666</td>\n      <td>-0.025231</td>\n      <td>-0.089698</td>\n    </tr>\n    <tr>\n      <th>...</th>\n      <td>...</td>\n      <td>...</td>\n      <td>...</td>\n      <td>...</td>\n      <td>...</td>\n      <td>...</td>\n      <td>...</td>\n      <td>...</td>\n      <td>...</td>\n      <td>...</td>\n      <td>...</td>\n      <td>...</td>\n      <td>...</td>\n      <td>...</td>\n      <td>...</td>\n      <td>...</td>\n      <td>...</td>\n      <td>...</td>\n      <td>...</td>\n      <td>...</td>\n      <td>...</td>\n    </tr>\n    <tr>\n      <th>17285</th>\n      <td>-0.988677</td>\n      <td>-1.502007</td>\n      <td>-1.445650</td>\n      <td>-1.446035</td>\n      <td>-0.366571</td>\n      <td>-1.180967</td>\n      <td>-0.805717</td>\n      <td>-0.981234</td>\n      <td>-0.209349</td>\n      <td>0.644773</td>\n      <td>...</td>\n      <td>-0.105969</td>\n      <td>3.080829</td>\n      <td>-0.843028</td>\n      <td>-0.624218</td>\n      <td>-0.371718</td>\n      <td>-0.233369</td>\n      <td>-0.137101</td>\n      <td>-0.064666</td>\n      <td>-0.025231</td>\n      <td>-0.089698</td>\n    </tr>\n    <tr>\n      <th>17286</th>\n      <td>-0.988677</td>\n      <td>0.688974</td>\n      <td>0.503706</td>\n      <td>1.856123</td>\n      <td>-0.037710</td>\n      <td>0.483206</td>\n      <td>1.241131</td>\n      <td>-0.674513</td>\n      <td>-0.209349</td>\n      <td>0.602146</td>\n      <td>...</td>\n      <td>-0.105969</td>\n      <td>-0.324588</td>\n      <td>-0.843028</td>\n      <td>-0.624218</td>\n      <td>-0.371718</td>\n      <td>4.285056</td>\n      <td>-0.137101</td>\n      <td>-0.064666</td>\n      <td>-0.025231</td>\n      <td>-0.089698</td>\n    </tr>\n    <tr>\n      <th>17287</th>\n      <td>-0.988677</td>\n      <td>-0.406516</td>\n      <td>0.503706</td>\n      <td>1.707068</td>\n      <td>-0.239731</td>\n      <td>-0.167992</td>\n      <td>1.241131</td>\n      <td>-0.776753</td>\n      <td>-0.209349</td>\n      <td>0.630323</td>\n      <td>...</td>\n      <td>-0.105969</td>\n      <td>-0.324588</td>\n      <td>-0.843028</td>\n      <td>1.602005</td>\n      <td>-0.371718</td>\n      <td>-0.233369</td>\n      <td>-0.137101</td>\n      <td>-0.064666</td>\n      <td>-0.025231</td>\n      <td>-0.089698</td>\n    </tr>\n    <tr>\n      <th>17288</th>\n      <td>-0.988677</td>\n      <td>-1.502007</td>\n      <td>0.503706</td>\n      <td>0.743938</td>\n      <td>-0.475958</td>\n      <td>-0.107696</td>\n      <td>1.241131</td>\n      <td>-1.185714</td>\n      <td>-0.209349</td>\n      <td>0.566021</td>\n      <td>...</td>\n      <td>-0.105969</td>\n      <td>-0.324588</td>\n      <td>-0.843028</td>\n      <td>1.602005</td>\n      <td>-0.371718</td>\n      <td>-0.233369</td>\n      <td>-0.137101</td>\n      <td>-0.064666</td>\n      <td>-0.025231</td>\n      <td>-0.089698</td>\n    </tr>\n    <tr>\n      <th>17289</th>\n      <td>-0.988677</td>\n      <td>-0.406516</td>\n      <td>0.503706</td>\n      <td>-0.379713</td>\n      <td>-0.731591</td>\n      <td>-0.734775</td>\n      <td>1.241131</td>\n      <td>1.404371</td>\n      <td>-0.209349</td>\n      <td>0.606481</td>\n      <td>...</td>\n      <td>-0.105969</td>\n      <td>-0.324588</td>\n      <td>-0.843028</td>\n      <td>-0.624218</td>\n      <td>2.690215</td>\n      <td>-0.233369</td>\n      <td>-0.137101</td>\n      <td>-0.064666</td>\n      <td>-0.025231</td>\n      <td>-0.089698</td>\n    </tr>\n  </tbody>\n</table>\n<p>17290 rows × 112 columns</p>\n</div>"
     },
     "metadata": {},
     "execution_count": 110
    }
   ],
   "source": [
    "df_features_scaled"
   ]
  },
  {
   "cell_type": "code",
   "execution_count": 111,
   "metadata": {},
   "outputs": [
    {
     "output_type": "stream",
     "name": "stdout",
     "text": [
      "Real:  152217\n"
     ]
    }
   ],
   "source": [
    "y_pred = lm.predict(df_features_scaled)\n",
    "y_real = kc_df['price']\n",
    "rmse = np.sqrt(metrics.mean_squared_error(y_real, y_pred))\n",
    "print('Real: ', int(rmse))"
   ]
  },
  {
   "cell_type": "code",
   "execution_count": null,
   "metadata": {},
   "outputs": [],
   "source": []
  },
  {
   "cell_type": "code",
   "execution_count": null,
   "metadata": {},
   "outputs": [],
   "source": []
  },
  {
   "cell_type": "markdown",
   "metadata": {},
   "source": [
    "## Step 8:  Refit your best model to the entire dataset."
   ]
  },
  {
   "cell_type": "code",
   "execution_count": null,
   "metadata": {},
   "outputs": [],
   "source": []
  },
  {
   "cell_type": "markdown",
   "metadata": {},
   "source": [
    "## Step 9: Save your final model using pickle.\n",
    "\n",
    "https://machinelearningmastery.com/save-load-machine-learning-models-python-scikit-learn/"
   ]
  },
  {
   "cell_type": "code",
   "execution_count": 61,
   "metadata": {},
   "outputs": [],
   "source": [
    "def scale_fit_pickle_origin(df_features, target):\n",
    "    \"\"\"\n",
    "    Scaling df with features,\n",
    "    Fit linear model with scaled features\n",
    "    Create pickle file with Scaler and Model\n",
    "    params: \n",
    "            df_features - most important features \n",
    "            target - Series\n",
    "    \"\"\"\n",
    "    scaler = StandardScaler()\n",
    "    # fit the scaler to the training data\n",
    "    scaler.fit(df_features)\n",
    "    #transform the training data\n",
    "    scaled_data = scaler.transform(df_features)\n",
    "    #create dataframe\n",
    "    df_features_scaled = pd.DataFrame(data=scaled_data, columns=df_features.columns, index=df_features.index)\n",
    "    lm_final = LinearRegression()\n",
    "    #fit the linear regression to the data\n",
    "    lm_final = lm_final.fit(df_features_scaled, target)\n",
    "    pickle_out = open(\"model.pickle\",\"wb\")\n",
    "    pickle.dump(lm_final, pickle_out)\n",
    "    pickle_out.close()\n",
    "    pickle_out = open('scaler.pickle', \"wb\")\n",
    "    pickle.dump(scaler, pickle_out)\n",
    "    pickle_out.close()\n",
    "    return print(' CONGRATS !!! You sucessfuly created you pickles for SCALER and MODEL')"
   ]
  },
  {
   "cell_type": "code",
   "execution_count": 63,
   "metadata": {},
   "outputs": [
    {
     "output_type": "stream",
     "name": "stdout",
     "text": [
      " CONGRATS !!! You sucessfuly created you pickles for SCALER and MODEL\n"
     ]
    }
   ],
   "source": [
    "scale_fit_pickle_origin(kc_df_poly2[summary_features1], target)"
   ]
  },
  {
   "cell_type": "code",
   "execution_count": 122,
   "metadata": {},
   "outputs": [
    {
     "output_type": "execute_result",
     "data": {
      "text/plain": [
       "Index(['dist_city_x', 'sqft_living_x', 'sqft_lot_x', 'dist_city^2',\n",
       "       'dist_city sqft_living', 'dist_city sqft_lot', 'sqft_living^2',\n",
       "       'sqft_living sqft_lot', 'sqft_lot^2', 'population',\n",
       "       ...\n",
       "       'gra_5', 'gra_6', 'gra_7', 'gra_8', 'gra_9', 'gra_10', 'gra_11',\n",
       "       'gra_12', 'gra_13', 'wat_1'],\n",
       "      dtype='object', length=122)"
      ]
     },
     "metadata": {},
     "execution_count": 122
    }
   ],
   "source": [
    "kc_df_poly2.columns"
   ]
  },
  {
   "cell_type": "code",
   "execution_count": null,
   "metadata": {},
   "outputs": [],
   "source": []
  }
 ],
 "metadata": {
  "kernelspec": {
   "display_name": "Python 3",
   "language": "python",
   "name": "python3"
  },
  "language_info": {
   "codemirror_mode": {
    "name": "ipython",
    "version": 3
   },
   "file_extension": ".py",
   "mimetype": "text/x-python",
   "name": "python",
   "nbconvert_exporter": "python",
   "pygments_lexer": "ipython3",
   "version": "3.8.5-final"
  }
 },
 "nbformat": 4,
 "nbformat_minor": 2
}